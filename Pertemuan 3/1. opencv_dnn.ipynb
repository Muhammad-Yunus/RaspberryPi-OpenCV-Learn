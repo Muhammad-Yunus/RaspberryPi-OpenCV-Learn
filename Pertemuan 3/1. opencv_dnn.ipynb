{
 "cells": [
  {
   "cell_type": "code",
   "execution_count": 1,
   "metadata": {},
   "outputs": [],
   "source": [
    "import cv2\n",
    "import numpy as np\n",
    "import os"
   ]
  },
  {
   "attachments": {},
   "cell_type": "markdown",
   "metadata": {},
   "source": [
    "# Deep Learning in OpenCV\n",
    "\n",
    "### 1. Machine Learning vs Deep Learning\n",
    "*Machine learning and deep learning are both types of AI. In short, **machine learning** is AI that can automatically adapt with minimal human interference. **Deep learning** is a subset of machine learning that uses artificial **neural networks** to mimic the learning process of the human brain.* — [coursera.org](https://www.coursera.org/articles/ai-vs-deep-learning-vs-machine-learning-beginners-guide)<br><br>\n",
    "<img src=\"resource/ml.png\" style=\"width:500px\"></img><br><br>\n",
    "\n",
    "- Table comparison :\n",
    "<table><thead><tr><th><strong>Machine learning</strong></th><th><strong>Deep learning</strong></th></tr></thead><tbody><tr><td>A subset of AI</td><td>A subset of machine learning</td></tr><tr><td>Can train on smaller data sets</td><td>Requires large amounts of data</td></tr><tr><td>Requires more human intervention to correct and learn</td><td>Learns on its own from environment and past mistakes</td></tr><tr><td>Shorter training and lower accuracy</td><td>Longer training and higher accuracy</td></tr><tr><td>Makes simple, linear correlations</td><td>Makes non-linear, complex correlations</td></tr><tr><td>Can train on a CPU (central processing unit)</td><td>Needs a specialized GPU (graphics processing unit) to train</td></tr></tbody></table><br><br>\n",
    "\n",
    "- Inference/Forward Pass comparison :<br>\n",
    "<img src=\"resource/ml-dl.png\" style=\"width:700px;background:white\"></img><br>\n",
    "    - **ML** memisahkan bagian **Feature Extraction** dengan bagian **Classification/Detection/Prediction**.\n",
    "    - **DL** menggabungkan bagian **Feature Extraction** dengan bagian **Classification/Detection/Prediction** dalam satu model. "
   ]
  },
  {
   "attachments": {},
   "cell_type": "markdown",
   "metadata": {},
   "source": [
    "- Pelajari Selengkapnya terkait ML vs DL :\n",
    "\n",
    "    - [“#1 Pengenalan Machine Learning”](https://medium.com/@yunusmuhammad007/pengenalan-machine-learning-2320b5ca7266)\n",
    "    - [“#2 Supervised VS Unsupervised VS Reinforcement ML”](https://link.medium.com/wEcGRj3gq5)\n",
    "    - [“#3 Machine Learning Evaluation”](https://link.medium.com/qJ9Kd26gq5)\n",
    "    - [“#4 Alat dan Bahan untuk Machine Learning”](https://medium.com/@yunusmuhammad007/3-alat-dan-bahan-untuk-machine-learning-92c717286624)\n",
    "    - [“#5 Basic Python Programming”](https://medium.com/@yunusmuhammad007/5-basic-python-programming-87c89e1d0d3e)\n",
    "    - [“#6 Artificial Neural Network (ANN) — Part 1 (Pengenalan)”](https://link.medium.com/TbaRUcJZv5)\n",
    "    - [“#7 Artificial Neural Network (ANN) — Part 2 (Single Layer Perceptron)”](https://link.medium.com/kpBiXHBdz5)\n",
    "    - [“#8 Artificial Neural Network (ANN) — Part 3 (Teori Dasar Multi Layer Perceptron Backpropagation)”](https://link.medium.com/D7rAjn69F6)\n",
    "    - [“#9 Artificial Neural Network (ANN) — Part 4 (MLP Backpropagation Time Series Forecasting…”](https://link.medium.com/s2ZZFy89F6)\n",
    "    - [“#10 Artificial Neural Network (ANN) — Part 5 (Time Series Forecasting ISPU CO DKI Jakarta…”](https://link.medium.com/ccHKkBaaG6)\n",
    "    - [“#11 Artificial Neural Network (ANN) — Part 6 Konsep Dasar Convolutional Neural Network (CNN)”](https://link.medium.com/gy2J4beaG6)"
   ]
  },
  {
   "attachments": {},
   "cell_type": "markdown",
   "metadata": {},
   "source": [
    "### 2. Training vs Inferencing Deep Learning Model\n",
    "\n",
    "- **Training** memerlukan **dataset** dan akan menghasilkan **Model**.\n",
    "- **Inference** memerlukan **Model** dan **data test** yang akan menghasilkan **Prediction**.  \n",
    "<img src=\"resource/training-inferencing.jpg\" style=\"width:700px\"></img><br><br>"
   ]
  },
  {
   "attachments": {},
   "cell_type": "markdown",
   "metadata": {},
   "source": [
    "### 3. How to Training Deep Learning Model\n",
    "\n",
    "- Untuk mentraining Model Deep Learning bisa menggunakan **Framework Deep Learning** yang sudah standard, seperti :\n",
    "    - [Tensorflow](https://www.tensorflow.org/)\n",
    "    - [Keras](https://keras.io/)\n",
    "    - [MXNet](https://mxnet.apache.org/)\n",
    "    - [Caffe](https://caffe.berkeleyvision.org/)\n",
    "    - [H2O](https://h2o.ai/)\n",
    "    - [Darknet](https://github.com/pjreddie/darknet)\n",
    "    - [Torch](https://pytorch.org/)\n",
    "<br><br>\n",
    "- Pelajari Selengkapnya terkait **Training Model Deep Learning** :\n",
    "    - [[Notebook] Intro & Training Model Face Recognition with Keras](https://github.com/Muhammad-Yunus/Materi-Training/blob/main/C.%20Facerecognition/pertemuan_7/2.%20Implementasi%20Neural%20Network.ipynb)\n",
    "    - [[Video] Intro to Neural Network with Keras](https://www.youtube.com/watch?v=Vt8oYlwHYIE&t=3047s)\n",
    "    - [[Video] Training Model Face Recognition with Keras](https://www.youtube.com/watch?v=m0OWRRGYZx8&t=2021s)\n",
    "    - [[Notebook] Intro to Object Detection with Tensorflow](https://github.com/Muhammad-Yunus/Jetson-Nano-Object-Detection-Learn/tree/main/pertemuan_2)\n",
    "    - [[Notebook] Training Model Object Detection with Tensorflow](https://github.com/Muhammad-Yunus/Jetson-Nano-Object-Detection-Learn/tree/main/pertemuan_3)\n",
    "    - [[Video] Training Model Object Detection with Tensorflow](https://www.youtube.com/watch?v=utRrw1TJG-U&t=3808s)\n",
    "    - [[Notebook] Intro & Training Yolo Model Object Detection with Darknet](https://github.com/Muhammad-Yunus/Jetson-Nano-Object-Detection-Learn/tree/main/pertemuan_4)\n",
    "    - [[Video] Intro & Training Yolo Model Object Detection with Darknet](https://www.youtube.com/watch?v=kb2nsM8EN0M&t=42s)\n",
    "    "
   ]
  },
  {
   "attachments": {},
   "cell_type": "markdown",
   "metadata": {},
   "source": [
    "- Dimana kita dapat mendownload model yang sudah di training?\n",
    "    - [OpenCV Zoo](https://github.com/opencv/opencv_zoo)\n",
    "    - [https://modelzoo.co/](https://modelzoo.co/)\n",
    "    - [TensorFlow Model Zoo](https://github.com/tensorflow/models/blob/archive/research/object_detection/g3doc/tf1_detection_zoo.md)\n",
    "    - [ONNX Model Zoo](https://github.com/onnx/models)\n",
    "    - [Darknet Yolo](https://pjreddie.com/darknet/yolo/)"
   ]
  },
  {
   "attachments": {},
   "cell_type": "markdown",
   "metadata": {},
   "source": [
    "### 4. OpenCV DNN\n",
    "\n",
    "**OpenCV DNN - Deep Neural Network** adalah library untuk **Inference** atau **Forward Pass** Model Deep Learning dari beragam framework populer. Menyediakan struktur prrogram yang sederhana dan high performance (mensupport beragam CPU,GPU dan Inference Engine).\n",
    "- Compatibility : > OpenCV 3.3\n",
    "- Wiki : https://github.com/opencv/opencv/wiki/Deep-Learning-in-OpenCV\n",
    "- The supported frameworks:\n",
    "    - Caffe\n",
    "    - TensorFlow\n",
    "    - Torch\n",
    "    - Darknet (Yolo)\n",
    "    - Models in ONNX format"
   ]
  },
  {
   "attachments": {},
   "cell_type": "markdown",
   "metadata": {},
   "source": [
    "- Load Deep Learning Model using OpenCV DNN\n",
    "    - `cv2.dnn.readNet(model, configration)` \n",
    "    - where :\n",
    "        - `model` :\n",
    "            - `*.caffemodel` (Caffe, http://caffe.berkeleyvision.org/)\n",
    "            - `*.pb` (TensorFlow, https://www.tensorflow.org/)\n",
    "            - `*.t7` | `*.net` (Torch, http://torch.ch/)\n",
    "            - `*.weights` (Darknet, https://pjreddie.com/darknet/)\n",
    "        - `configuration` :\n",
    "            - `*.prototxt` (Caffe, http://caffe.berkeleyvision.org/)\n",
    "            - `*.pbtxt` (TensorFlow, https://www.tensorflow.org/)\n",
    "            - `*.cfg` (Darknet, https://pjreddie.com/darknet/)\n",
    "    - This function automatically detects an origin framework of trained model and calls an appropriate function such \n",
    "        - `cv2.dnn.readNetFromCaffe` \n",
    "        - `cv2.dnn.readNetFromTensorflow`\n",
    "        - `cv2.dnn.readNetFromTorch` \n",
    "        - `cv2.dnn.readNetFromDarknet`\n",
    "    - OpenCV DNN config file bisa ditemukan [disini](https://github.com/opencv/opencv_extra/tree/4.x/testdata/dnn)"
   ]
  },
  {
   "attachments": {},
   "cell_type": "markdown",
   "metadata": {},
   "source": [
    "### 4.1 Using Tensorflow Model\n",
    "- Load Model **Tensorflow SSD MobileNet v2**\n",
    "    - Download model `SSD MobileNet v2` dari [ssd_mobilenet_v2_coco_2018_03_29.tar.gz](http://download.tensorflow.org/models/object_detection/ssd_mobilenet_v2_coco_2018_03_29.tar.gz)\n",
    "    - Ekstrak file `.tar.gz`, \n",
    "    - Lalu ekstrak kembali file `.tar` yang ada di dalam folder hasil ekstrak sebelumnya,\n",
    "    - Masuk ke folder `saved_model/` lalu rename file `frozen_inference_graph.pb` ke `ssd_mobilenet_v2_coco_2018_03_29.pb`,\n",
    "    - Lalu download juga [ssd_mobilenet_v2_coco_2018_03_29.pbtxt](https://raw.githubusercontent.com/opencv/opencv_extra/4.x/testdata/dnn/ssd_mobilenet_v2_coco_2018_03_29.pbtxt),\n",
    "    - Setelahnya masukan kedua file tersebut ke folder `/Pertemuan 3/model/`<br><br>\n",
    "    \n",
    "- Model `SSD MobileNet v2` di training dengan `COCO Dataset` yang terdiri dari `80 class names` dalam `90 class index`"
   ]
  },
  {
   "attachments": {},
   "cell_type": "markdown",
   "metadata": {},
   "source": [
    "- Load tensorflow coco class names via `.load_coco_class_names_tf()` form `coco.py`"
   ]
  },
  {
   "cell_type": "code",
   "execution_count": 2,
   "metadata": {},
   "outputs": [
    {
     "name": "stdout",
     "output_type": "stream",
     "text": [
      "['background', 'person', 'bicycle', 'car', 'motorcycle', 'airplane', 'bus', 'train', 'truck', 'boat', 'traffic light', 'fire hydrant', 'unknown', 'stop sign', 'parking meter', 'bench', 'bird', 'cat', 'dog', 'horse', 'sheep', 'cow', 'elephant', 'bear', 'zebra', 'giraffe', 'unknown', 'backpack', 'umbrella', 'unknown', 'unknown', 'handbag', 'tie', 'suitcase', 'frisbee', 'skis', 'snowboard', 'sports ball', 'kite', 'baseball bat', 'baseball glove', 'skateboard', 'surfboard', 'tennis racket', 'bottle', 'unknown', 'wine glass', 'cup', 'fork', 'knife', 'spoon', 'bowl', 'banana', 'apple', 'sandwich', 'orange', 'broccoli', 'carrot', 'hot dog', 'pizza', 'donut', 'cake', 'chair', 'couch', 'potted plant', 'bed', 'unknown', 'dining table', 'unknown', 'unknown', 'toilet', 'unknown', 'tv', 'laptop', 'mouse', 'remote', 'keyboard', 'cell phone', 'microwave', 'oven', 'toaster', 'sink', 'refrigerator', 'unknown', 'book', 'clock', 'vase', 'scissors', 'teddy bear', 'hair drier', 'toothbrush']\n"
     ]
    }
   ],
   "source": [
    "import coco\n",
    "\n",
    "classNames = coco.load_coco_class_names_tf()\n",
    "\n",
    "print(classNames)"
   ]
  },
  {
   "attachments": {},
   "cell_type": "markdown",
   "metadata": {},
   "source": [
    "- Load `SSD MobileNet v2` model"
   ]
  },
  {
   "cell_type": "code",
   "execution_count": 3,
   "metadata": {},
   "outputs": [],
   "source": [
    "model = \"model/ssd_mobilenet_v2_coco_2018_03_29.pb\"\n",
    "config = \"model/ssd_mobilenet_v2_coco_2018_03_29.pbtxt\"\n",
    "net = cv2.dnn.readNet(model, config)"
   ]
  },
  {
   "attachments": {},
   "cell_type": "markdown",
   "metadata": {},
   "source": [
    "- Set OpenCV DNN Backend and Target via `.setPreferableBackend()` and `.setPreferableTarget()`<br><br>\n",
    "\n",
    "- Backend available option for OpenCV 4.5.3,\n",
    "    - `cv2.dnn.DNN_BACKEND_DEFAULT`\n",
    "    - `cv2.dnn.DNN_BACKEND_HALIDE`\n",
    "    - `cv2.dnn.DNN_BACKEND_INFERENCE_ENGINE`\n",
    "    - `cv2.dnn.DNN_BACKEND_OPENCV`\n",
    "    - `cv2.dnn.DNN_BACKEND_VKCOM`\n",
    "    - `cv2.dnn.DNN_BACKEND_CUDA`<br><br>\n",
    "\n",
    "- Target available option for OpenCV 4.5.3,\n",
    "    - `cv2.dnn.DNN_TARGET_CPU`\n",
    "    - `cv2.dnn.DNN_TARGET_OPENCL`\n",
    "    - `cv2.dnn.DNN_TARGET_OPENCL_FP16`\n",
    "    - `cv2.dnn.DNN_TARGET_MYRIAD`\n",
    "    - `cv2.dnn.DNN_TARGET_VULKAN`\n",
    "    - `cv2.dnn.DNN_TARGET_FPGA`\n",
    "    - `cv2.dnn.DNN_TARGET_CUDA`\n",
    "    - `cv2.dnn.DNN_TARGET_CUDA_FP16`\n",
    "    - `cv2.dnn.DNN_TARGET_HDDL`"
   ]
  },
  {
   "attachments": {},
   "cell_type": "markdown",
   "metadata": {},
   "source": [
    "- Since Plain Raspberry Pi 3 or 4 only Support Backend `cv2.dnn.DNN_BACKEND_OPENCV` and Target `cv2.dnn.DNN_TARGET_CPU`"
   ]
  },
  {
   "cell_type": "code",
   "execution_count": 4,
   "metadata": {},
   "outputs": [],
   "source": [
    "net.setPreferableBackend(cv2.dnn.DNN_BACKEND_OPENCV)\n",
    "net.setPreferableTarget(cv2.dnn.DNN_TARGET_CPU)"
   ]
  },
  {
   "attachments": {},
   "cell_type": "markdown",
   "metadata": {},
   "source": [
    "- define `layerOutput` by calling `.getUnconnectedOutLayersNames()`"
   ]
  },
  {
   "cell_type": "code",
   "execution_count": 5,
   "metadata": {},
   "outputs": [],
   "source": [
    "layerOutput = net.getUnconnectedOutLayersNames()"
   ]
  },
  {
   "attachments": {},
   "cell_type": "markdown",
   "metadata": {},
   "source": [
    "- Load Image"
   ]
  },
  {
   "cell_type": "code",
   "execution_count": 18,
   "metadata": {},
   "outputs": [],
   "source": [
    "img = cv2.imread(\"image3.jpg\")"
   ]
  },
  {
   "cell_type": "code",
   "execution_count": 7,
   "metadata": {},
   "outputs": [
    {
     "data": {
      "text/plain": [
       "(480, 640, 3)"
      ]
     },
     "execution_count": 7,
     "metadata": {},
     "output_type": "execute_result"
    }
   ],
   "source": [
    "img.shape"
   ]
  },
  {
   "attachments": {},
   "cell_type": "markdown",
   "metadata": {},
   "source": [
    "- Convert `Image data` to `Blob` via  `cv2.dnn.blobFromImage()`\n",
    "    - `cv2.dnn.blobFromImage(img, scalefactor=1.0, output_size, mean_channel, swapRB=false, crop=false, ddepth=cv2.CV_32F)`\n",
    "        - `image`\tinput image (with 1-, 3- or 4-channels).\n",
    "        - `size`\tspatial size for output image\n",
    "        - `mean`\tscalar with mean values which are subtracted from channels. Values are intended to be in (mean-R, mean-G, mean-B) order if image has BGR ordering and swapRB is true.\n",
    "        - `scalefactor`\tmultiplier for image values.\n",
    "        - `swapRB`\tflag which indicates that swap first and last channels in 3-channel image is necessary.\n",
    "        - `crop`\tflag which indicates whether image will be cropped after resize or not\n",
    "        - `ddepth`\tDepth of output blob. Choose cv2.CV_32F or cv2.CV_8U."
   ]
  },
  {
   "cell_type": "code",
   "execution_count": 19,
   "metadata": {},
   "outputs": [],
   "source": [
    "resize_h, resize_w = 300, 300 \n",
    "\n",
    "blob = cv2.dnn.blobFromImage(img, 1.0, (resize_w, resize_h), (0, 0, 0), swapRB=True, crop=True)"
   ]
  },
  {
   "attachments": {},
   "cell_type": "markdown",
   "metadata": {},
   "source": [
    "- Set blob to input network using `.setInput()` on `net` object\n",
    "- Do forward pass and get output using `.forward()` on `net` object"
   ]
  },
  {
   "cell_type": "code",
   "execution_count": 20,
   "metadata": {},
   "outputs": [],
   "source": [
    "net.setInput(blob)\n",
    "output = net.forward(layerOutput)"
   ]
  },
  {
   "attachments": {},
   "cell_type": "markdown",
   "metadata": {},
   "source": [
    "- Check output"
   ]
  },
  {
   "cell_type": "code",
   "execution_count": 10,
   "metadata": {},
   "outputs": [
    {
     "data": {
      "text/plain": [
       "[array([[[[ 0.00000000e+00,  1.00000000e+00,  9.99428689e-01,\n",
       "            4.51648384e-01,  2.23042518e-01,  6.44930720e-01,\n",
       "            6.75394654e-01],\n",
       "          [ 0.00000000e+00,  1.00000000e+00,  9.46393132e-01,\n",
       "           -2.90147960e-03,  1.96374804e-01,  4.28051174e-01,\n",
       "            7.66669273e-01],\n",
       "          [ 0.00000000e+00,  3.70000000e+01,  6.67954922e-01,\n",
       "            9.41732466e-01,  1.42888084e-01,  9.86691415e-01,\n",
       "            1.73056647e-01],\n",
       "          [ 0.00000000e+00,  3.70000000e+01,  5.05161621e-02,\n",
       "            8.67162585e-01,  2.00469166e-01,  8.89974594e-01,\n",
       "            2.13530451e-01],\n",
       "          [ 0.00000000e+00,  3.70000000e+01,  4.70081791e-02,\n",
       "            1.98645398e-01,  7.05785096e-01,  2.33495727e-01,\n",
       "            7.66561210e-01],\n",
       "          [ 0.00000000e+00,  1.00000000e+00,  4.07773443e-02,\n",
       "           -9.10593010e-03,  1.42708018e-01,  6.51115179e-02,\n",
       "            4.60089564e-01],\n",
       "          [ 0.00000000e+00,  3.90000000e+01,  3.84431891e-02,\n",
       "            5.31749070e-01,  4.70230758e-01,  5.87414682e-01,\n",
       "            6.55900180e-01],\n",
       "          [ 0.00000000e+00,  3.40000000e+01,  3.76592129e-02,\n",
       "            3.87934744e-01,  3.56778383e-01,  4.20564890e-01,\n",
       "            3.93814266e-01],\n",
       "          [ 0.00000000e+00,  3.40000000e+01,  3.32549736e-02,\n",
       "            3.72998893e-01,  3.30291241e-01,  4.13251996e-01,\n",
       "            3.81011158e-01],\n",
       "          [ 0.00000000e+00,  3.40000000e+01,  3.00069731e-02,\n",
       "            5.44785202e-01,  4.72297132e-01,  5.85309446e-01,\n",
       "            5.23669064e-01],\n",
       "          [ 0.00000000e+00,  1.00000000e+00,  2.91964989e-02,\n",
       "           -1.88826621e-02,  1.66585878e-01,  7.33164668e-01,\n",
       "            4.71504569e-01],\n",
       "          [ 0.00000000e+00,  1.00000000e+00,  2.71483697e-02,\n",
       "           -6.53854758e-03,  1.57958493e-01,  1.51594609e-01,\n",
       "            4.44249213e-01],\n",
       "          [ 0.00000000e+00,  1.00000000e+00,  2.69834362e-02,\n",
       "            3.13906744e-03,  2.75740564e-01,  6.83584064e-02,\n",
       "            7.63013661e-01],\n",
       "          [ 0.00000000e+00,  3.70000000e+01,  2.67433003e-02,\n",
       "            1.76427513e-01,  1.99471340e-01,  1.98679388e-01,\n",
       "            2.13878796e-01],\n",
       "          [ 0.00000000e+00,  1.00000000e+00,  2.57467106e-02,\n",
       "            4.81581688e-03,  9.71226394e-02,  5.57957947e-01,\n",
       "            8.17511559e-01],\n",
       "          [ 0.00000000e+00,  3.70000000e+01,  2.50855386e-02,\n",
       "            2.39247411e-01,  1.86112732e-01,  2.57400423e-01,\n",
       "            1.97536081e-01],\n",
       "          [ 0.00000000e+00,  1.60000000e+01,  2.50214618e-02,\n",
       "            9.51284289e-01,  3.03891271e-01,  9.92976785e-01,\n",
       "            3.23259383e-01],\n",
       "          [ 0.00000000e+00,  1.00000000e+00,  2.47810595e-02,\n",
       "            2.71345735e-01,  2.15446264e-01,  7.45754242e-01,\n",
       "            7.51038671e-01],\n",
       "          [ 0.00000000e+00,  3.70000000e+01,  2.40097288e-02,\n",
       "            8.03868622e-02,  2.87154198e-01,  1.01035923e-01,\n",
       "            3.13540041e-01],\n",
       "          [ 0.00000000e+00,  3.90000000e+01,  2.26638131e-02,\n",
       "            5.86121738e-01,  4.94048506e-01,  6.20564759e-01,\n",
       "            6.30843043e-01],\n",
       "          [ 0.00000000e+00,  1.00000000e+00,  2.25184709e-02,\n",
       "            2.36300379e-02,  2.21158639e-01,  4.36055660e-01,\n",
       "            5.78921735e-01],\n",
       "          [ 0.00000000e+00,  1.00000000e+00,  2.17764731e-02,\n",
       "            4.47453499e-01,  2.56040722e-01,  5.75857759e-01,\n",
       "            6.38044357e-01],\n",
       "          [ 0.00000000e+00,  1.00000000e+00,  2.11747717e-02,\n",
       "            3.20742279e-03,  5.07903993e-02,  1.04780473e-01,\n",
       "            7.61645794e-01],\n",
       "          [ 0.00000000e+00,  1.00000000e+00,  2.11220160e-02,\n",
       "            3.66192788e-01,  9.22629237e-02,  6.53310537e-01,\n",
       "            7.15057313e-01],\n",
       "          [ 0.00000000e+00,  3.70000000e+01,  2.10323595e-02,\n",
       "            9.26120698e-01,  1.55914158e-01,  9.56085384e-01,\n",
       "            1.83640391e-01],\n",
       "          [ 0.00000000e+00,  1.00000000e+00,  2.05272846e-02,\n",
       "            1.64238572e-01,  2.20510960e-02,  8.44487786e-01,\n",
       "            6.27839267e-01],\n",
       "          [ 0.00000000e+00,  3.70000000e+01,  1.98142268e-02,\n",
       "            2.02554211e-01,  7.25888848e-01,  2.32206300e-01,\n",
       "            7.60153532e-01],\n",
       "          [ 0.00000000e+00,  3.40000000e+01,  1.96593367e-02,\n",
       "            6.11174464e-01,  4.66928154e-01,  6.36633515e-01,\n",
       "            4.99401599e-01],\n",
       "          [ 0.00000000e+00,  1.00000000e+00,  1.96536891e-02,\n",
       "           -5.12010604e-03,  2.62155235e-01,  7.38246739e-02,\n",
       "            5.53511381e-01],\n",
       "          [ 0.00000000e+00,  1.00000000e+00,  1.96332764e-02,\n",
       "            2.49423683e-02,  1.69375986e-01,  8.83364797e-01,\n",
       "            7.62120843e-01],\n",
       "          [ 0.00000000e+00,  1.00000000e+00,  1.95624270e-02,\n",
       "            4.24719661e-01,  1.98241591e-01,  9.27857995e-01,\n",
       "            8.09058428e-01],\n",
       "          [ 0.00000000e+00,  2.70000000e+01,  1.94515027e-02,\n",
       "            4.86435175e-01,  3.14740509e-01,  6.74282074e-01,\n",
       "            4.75767046e-01],\n",
       "          [ 0.00000000e+00,  3.70000000e+01,  1.91773307e-02,\n",
       "            6.11174464e-01,  4.66928154e-01,  6.36633515e-01,\n",
       "            4.99401599e-01],\n",
       "          [ 0.00000000e+00,  1.00000000e+00,  1.91235803e-02,\n",
       "            3.99651885e-01,  2.50419647e-01,  5.25535643e-01,\n",
       "            5.91934085e-01],\n",
       "          [ 0.00000000e+00,  1.00000000e+00,  1.88165810e-02,\n",
       "           -1.71203911e-03, -1.68813765e-03,  1.38083443e-01,\n",
       "            4.00385916e-01],\n",
       "          [ 0.00000000e+00,  1.60000000e+01,  1.87036209e-02,\n",
       "            9.25479174e-01,  3.12190294e-01,  9.63498592e-01,\n",
       "            3.25549304e-01],\n",
       "          [ 0.00000000e+00,  1.00000000e+00,  1.84968207e-02,\n",
       "            1.06081143e-02,  1.47028267e-02,  4.85321134e-02,\n",
       "            5.28072834e-01],\n",
       "          [ 0.00000000e+00,  1.00000000e+00,  1.84548385e-02,\n",
       "            1.11302689e-01,  2.19040334e-01,  4.38558102e-01,\n",
       "            3.90326977e-01],\n",
       "          [ 0.00000000e+00,  1.00000000e+00,  1.83556806e-02,\n",
       "           -6.05800748e-03,  2.29233265e-01,  1.32928580e-01,\n",
       "            8.29491496e-01],\n",
       "          [ 0.00000000e+00,  1.00000000e+00,  1.83449984e-02,\n",
       "            4.85986024e-01,  1.64532363e-02,  9.29178834e-01,\n",
       "            6.81304336e-01],\n",
       "          [ 0.00000000e+00,  2.70000000e+01,  1.78496670e-02,\n",
       "            4.76927668e-01,  3.33886445e-01,  5.29030442e-01,\n",
       "            4.47930813e-01],\n",
       "          [ 0.00000000e+00,  1.00000000e+00,  1.75530948e-02,\n",
       "            2.00678036e-01,  2.30571106e-01,  6.68924809e-01,\n",
       "            5.05180478e-01],\n",
       "          [ 0.00000000e+00,  1.00000000e+00,  1.73040275e-02,\n",
       "           -4.61942218e-02,  2.14912176e-01,  1.27883494e-01,\n",
       "            3.71578634e-01],\n",
       "          [ 0.00000000e+00,  1.00000000e+00,  1.70747265e-02,\n",
       "           -3.30521166e-03,  2.55586863e-01,  1.45449072e-01,\n",
       "            5.56621611e-01],\n",
       "          [ 0.00000000e+00,  1.00000000e+00,  1.70667097e-02,\n",
       "            2.01448947e-01,  2.60870546e-01,  4.35315579e-01,\n",
       "            7.66695857e-01],\n",
       "          [ 0.00000000e+00,  2.70000000e+01,  1.69076920e-02,\n",
       "            5.62541544e-01,  3.16598177e-01,  6.35984838e-01,\n",
       "            4.83929336e-01],\n",
       "          [ 0.00000000e+00,  3.70000000e+01,  1.67788733e-02,\n",
       "            1.74406350e-01,  2.35661387e-01,  2.02278316e-01,\n",
       "            2.64451325e-01],\n",
       "          [ 0.00000000e+00,  1.00000000e+00,  1.67098176e-02,\n",
       "            5.86371571e-02,  2.20673218e-01,  2.16812029e-01,\n",
       "            4.60871041e-01],\n",
       "          [ 0.00000000e+00,  1.00000000e+00,  1.63680427e-02,\n",
       "            2.44624048e-01,  1.63144469e-01,  1.01510990e+00,\n",
       "            4.53551531e-01],\n",
       "          [ 0.00000000e+00,  1.00000000e+00,  1.63212996e-02,\n",
       "            3.99991870e-03,  1.00665212e-01,  1.67708546e-01,\n",
       "            6.30546570e-01],\n",
       "          [ 0.00000000e+00,  3.10000000e+01,  1.63049102e-02,\n",
       "            5.22963285e-01,  2.75200188e-01,  6.54814959e-01,\n",
       "            6.39472961e-01],\n",
       "          [ 0.00000000e+00,  1.00000000e+00,  1.62528399e-02,\n",
       "           -5.38593531e-03,  2.89698064e-01,  1.52304366e-01,\n",
       "            6.79245770e-01],\n",
       "          [ 0.00000000e+00,  3.70000000e+01,  1.55244404e-02,\n",
       "            9.37055111e-01,  1.44640505e-01,  9.70009446e-01,\n",
       "            1.68376893e-01],\n",
       "          [ 0.00000000e+00,  3.70000000e+01,  1.51608232e-02,\n",
       "            8.50037783e-02,  2.45011464e-01,  9.77031440e-02,\n",
       "            2.71519393e-01],\n",
       "          [ 0.00000000e+00,  3.40000000e+01,  1.50289163e-02,\n",
       "            6.91603184e-01,  5.17667294e-01,  7.39248872e-01,\n",
       "            5.27188778e-01],\n",
       "          [ 0.00000000e+00,  1.60000000e+01,  1.47773875e-02,\n",
       "            9.48972166e-01,  3.10731202e-01,  9.89006221e-01,\n",
       "            3.49229008e-01],\n",
       "          [ 0.00000000e+00,  3.70000000e+01,  1.43605862e-02,\n",
       "            6.06944084e-01,  1.33929357e-01,  6.25813007e-01,\n",
       "            1.43462077e-01],\n",
       "          [ 0.00000000e+00,  3.20000000e+01,  1.42266853e-02,\n",
       "            5.30087233e-01,  3.20912302e-01,  5.97054243e-01,\n",
       "            4.51245546e-01],\n",
       "          [ 0.00000000e+00,  3.90000000e+01,  1.40075777e-02,\n",
       "            4.81647789e-01,  4.85556960e-01,  5.30990660e-01,\n",
       "            6.55770421e-01],\n",
       "          [ 0.00000000e+00,  3.40000000e+01,  1.37635218e-02,\n",
       "            4.81647789e-01,  4.85556960e-01,  5.30990660e-01,\n",
       "            6.55770421e-01],\n",
       "          [ 0.00000000e+00,  3.40000000e+01,  1.34335877e-02,\n",
       "            3.02119762e-01,  2.98904121e-01,  4.16514188e-01,\n",
       "            3.77248108e-01],\n",
       "          [ 0.00000000e+00,  3.70000000e+01,  1.34218568e-02,\n",
       "            4.89992946e-01,  1.83226734e-01,  5.09875715e-01,\n",
       "            1.94049925e-01],\n",
       "          [ 0.00000000e+00,  2.70000000e+01,  1.34106092e-02,\n",
       "            5.30087233e-01,  3.20912302e-01,  5.97054243e-01,\n",
       "            4.51245546e-01],\n",
       "          [ 0.00000000e+00,  3.90000000e+01,  1.32756615e-02,\n",
       "            6.41868651e-01,  5.31506479e-01,  6.74158752e-01,\n",
       "            5.77014506e-01],\n",
       "          [ 0.00000000e+00,  1.60000000e+01,  1.32692168e-02,\n",
       "            4.10678208e-01,  9.30230558e-01,  4.33977246e-01,\n",
       "            9.51868474e-01],\n",
       "          [ 0.00000000e+00,  3.70000000e+01,  1.32218944e-02,\n",
       "            5.56033790e-01,  1.80777252e-01,  5.74652731e-01,\n",
       "            1.91927075e-01],\n",
       "          [ 0.00000000e+00,  3.40000000e+01,  1.31837437e-02,\n",
       "            5.31749070e-01,  4.70230758e-01,  5.87414682e-01,\n",
       "            6.55900180e-01],\n",
       "          [ 0.00000000e+00,  3.70000000e+01,  1.28866853e-02,\n",
       "            1.46180004e-01,  1.84931025e-01,  1.63497269e-01,\n",
       "            1.99561343e-01],\n",
       "          [ 0.00000000e+00,  3.70000000e+01,  1.27609000e-02,\n",
       "            4.36137170e-02,  3.67118120e-01,  8.78551155e-02,\n",
       "            4.25564766e-01],\n",
       "          [ 0.00000000e+00,  1.60000000e+01,  1.27003863e-02,\n",
       "            2.92310745e-01,  7.08766103e-01,  3.64833742e-01,\n",
       "            7.38763452e-01],\n",
       "          [ 0.00000000e+00,  3.70000000e+01,  1.26404241e-02,\n",
       "            7.36050755e-02,  4.27588940e-01,  9.95484442e-02,\n",
       "            4.68997002e-01],\n",
       "          [ 0.00000000e+00,  3.70000000e+01,  1.20627712e-02,\n",
       "            4.73903954e-01,  6.43188357e-01,  5.00667334e-01,\n",
       "            6.75172687e-01],\n",
       "          [ 0.00000000e+00,  3.70000000e+01,  1.18750613e-02,\n",
       "            2.05689430e-01,  7.07122505e-01,  2.31658190e-01,\n",
       "            7.49687970e-01],\n",
       "          [ 0.00000000e+00,  3.90000000e+01,  1.16545763e-02,\n",
       "            5.44785202e-01,  4.72297132e-01,  5.85309446e-01,\n",
       "            5.23669064e-01],\n",
       "          [ 0.00000000e+00,  3.70000000e+01,  1.16317552e-02,\n",
       "            8.67173612e-01,  2.20308155e-01,  8.86689484e-01,\n",
       "            2.35336632e-01],\n",
       "          [ 0.00000000e+00,  1.60000000e+01,  1.16141820e-02,\n",
       "            9.28305566e-01,  3.19860250e-01,  9.62822139e-01,\n",
       "            3.40373784e-01],\n",
       "          [ 0.00000000e+00,  1.60000000e+01,  1.15755834e-02,\n",
       "            8.14724982e-01,  5.21428645e-01,  8.28171790e-01,\n",
       "            5.28786957e-01],\n",
       "          [ 0.00000000e+00,  3.90000000e+01,  1.15057416e-02,\n",
       "            4.70364004e-01,  4.08209562e-01,  6.21734500e-01,\n",
       "            6.84101343e-01],\n",
       "          [ 0.00000000e+00,  3.70000000e+01,  1.14824381e-02,\n",
       "            1.43260345e-01,  2.25908920e-01,  1.72727630e-01,\n",
       "            2.63624370e-01],\n",
       "          [ 0.00000000e+00,  3.70000000e+01,  1.11754071e-02,\n",
       "            4.69167173e-01,  6.16081178e-01,  4.82342005e-01,\n",
       "            6.43834174e-01],\n",
       "          [ 0.00000000e+00,  2.70000000e+01,  1.10280188e-02,\n",
       "            5.28040528e-01,  2.61832774e-01,  6.54996872e-01,\n",
       "            5.25513887e-01],\n",
       "          [ 0.00000000e+00,  3.90000000e+01,  1.08837234e-02,\n",
       "            4.40355092e-01,  4.22235608e-01,  5.76637745e-01,\n",
       "            6.86302781e-01],\n",
       "          [ 0.00000000e+00,  3.70000000e+01,  1.06531186e-02,\n",
       "            2.25770965e-01,  2.51805723e-01,  2.48998687e-01,\n",
       "            2.66317368e-01],\n",
       "          [ 0.00000000e+00,  1.60000000e+01,  1.06239943e-02,\n",
       "            6.91603184e-01,  5.17667294e-01,  7.39248872e-01,\n",
       "            5.27188778e-01],\n",
       "          [ 0.00000000e+00,  3.70000000e+01,  1.05465828e-02,\n",
       "            4.74596053e-01,  6.49701476e-01,  4.89040226e-01,\n",
       "            6.68367743e-01],\n",
       "          [ 0.00000000e+00,  3.70000000e+01,  1.03448108e-02,\n",
       "           -3.05208098e-03,  2.85055786e-01,  2.84445062e-02,\n",
       "            3.31156820e-01],\n",
       "          [ 0.00000000e+00,  3.90000000e+01,  1.02572730e-02,\n",
       "            4.64633465e-01,  2.52685547e-01,  6.33623958e-01,\n",
       "            6.77863121e-01],\n",
       "          [ 0.00000000e+00,  3.70000000e+01,  1.01735368e-02,\n",
       "            4.54203725e-01,  1.81152225e-01,  4.80216622e-01,\n",
       "            1.96366549e-01],\n",
       "          [ 0.00000000e+00,  0.00000000e+00,  0.00000000e+00,\n",
       "            0.00000000e+00,  0.00000000e+00,  0.00000000e+00,\n",
       "            0.00000000e+00],\n",
       "          [ 0.00000000e+00,  0.00000000e+00,  0.00000000e+00,\n",
       "            0.00000000e+00,  0.00000000e+00,  0.00000000e+00,\n",
       "            0.00000000e+00],\n",
       "          [ 0.00000000e+00,  0.00000000e+00,  0.00000000e+00,\n",
       "            0.00000000e+00,  0.00000000e+00,  0.00000000e+00,\n",
       "            0.00000000e+00],\n",
       "          [ 0.00000000e+00,  0.00000000e+00,  0.00000000e+00,\n",
       "            0.00000000e+00,  0.00000000e+00,  0.00000000e+00,\n",
       "            0.00000000e+00],\n",
       "          [ 0.00000000e+00,  0.00000000e+00,  0.00000000e+00,\n",
       "            0.00000000e+00,  0.00000000e+00,  0.00000000e+00,\n",
       "            0.00000000e+00],\n",
       "          [ 0.00000000e+00,  0.00000000e+00,  0.00000000e+00,\n",
       "            0.00000000e+00,  0.00000000e+00,  0.00000000e+00,\n",
       "            0.00000000e+00],\n",
       "          [ 0.00000000e+00,  0.00000000e+00,  0.00000000e+00,\n",
       "            0.00000000e+00,  0.00000000e+00,  0.00000000e+00,\n",
       "            0.00000000e+00],\n",
       "          [ 0.00000000e+00,  0.00000000e+00,  0.00000000e+00,\n",
       "            0.00000000e+00,  0.00000000e+00,  0.00000000e+00,\n",
       "            0.00000000e+00],\n",
       "          [ 0.00000000e+00,  0.00000000e+00,  0.00000000e+00,\n",
       "            0.00000000e+00,  0.00000000e+00,  0.00000000e+00,\n",
       "            0.00000000e+00],\n",
       "          [ 0.00000000e+00,  0.00000000e+00,  0.00000000e+00,\n",
       "            0.00000000e+00,  0.00000000e+00,  0.00000000e+00,\n",
       "            0.00000000e+00],\n",
       "          [ 0.00000000e+00,  0.00000000e+00,  0.00000000e+00,\n",
       "            0.00000000e+00,  0.00000000e+00,  0.00000000e+00,\n",
       "            0.00000000e+00],\n",
       "          [ 0.00000000e+00,  0.00000000e+00,  0.00000000e+00,\n",
       "            0.00000000e+00,  0.00000000e+00,  0.00000000e+00,\n",
       "            0.00000000e+00]]]], dtype=float32)]"
      ]
     },
     "execution_count": 10,
     "metadata": {},
     "output_type": "execute_result"
    }
   ],
   "source": [
    "output"
   ]
  },
  {
   "attachments": {},
   "cell_type": "markdown",
   "metadata": {},
   "source": [
    "- Postprocessing detection result via `utils.py`\n",
    "    - Apply [NMS Box](https://learnopencv.com/tag/cv-dnn-nmsboxes/)\n",
    "    - Draw Detection Box\n",
    "    - use `.postprocessTensorflow()` for Tensorflow Model\n",
    "    - use `.postprocessYolo()` for Yolo Model"
   ]
  },
  {
   "cell_type": "code",
   "execution_count": 21,
   "metadata": {},
   "outputs": [],
   "source": [
    "import utils \n",
    "\n",
    "utility = utils.Utils()\n",
    "\n",
    "img = utility.postprocessTensorflow(output, img, classNames, font_size=0.8)"
   ]
  },
  {
   "attachments": {},
   "cell_type": "markdown",
   "metadata": {},
   "source": [
    "- show results"
   ]
  },
  {
   "cell_type": "code",
   "execution_count": 23,
   "metadata": {},
   "outputs": [],
   "source": [
    "cv2.imshow(\"detection result\", img)\n",
    "cv2.waitKey()\n",
    "cv2.destroyAllWindows()"
   ]
  },
  {
   "attachments": {},
   "cell_type": "markdown",
   "metadata": {},
   "source": [
    "### 4.2 Using Darknet Model\n",
    "- Load Model **Yolo v3 Tiny**\n",
    "    - Download model [yolov3-tiny.weights](https://pjreddie.com/media/files/yolov3-tiny.weights)\n",
    "    - Lalu download juga config [yolov3-tiny.cfg](https://raw.githubusercontent.com/pjreddie/darknet/master/cfg/yolov3-tiny.cfg),\n",
    "    - Setelahnya masukan kedua file tersebut ke folder `/Pertemuan 3/model/`<br><br>\n",
    "    \n",
    "- Model `Yolo v3 Tiny` di training dengan `COCO Dataset` yang terdiri dari `80 class names` dalam `80 class index`"
   ]
  },
  {
   "attachments": {},
   "cell_type": "markdown",
   "metadata": {},
   "source": [
    "- load yolo coco class names via `.load_coco_class_names_yolo()` in `coco.py`"
   ]
  },
  {
   "cell_type": "code",
   "execution_count": 24,
   "metadata": {},
   "outputs": [
    {
     "name": "stdout",
     "output_type": "stream",
     "text": [
      "['person', 'bicycle', 'car', 'motorbike', 'aeroplane', 'bus', 'train', 'truck', 'boat', 'traffic light', 'fire hydrant', 'stop sign', 'parking meter', 'bench', 'bird', 'cat', 'dog', 'horse', 'sheep', 'cow', 'elephant', 'bear', 'zebra', 'giraffe', 'backpack', 'umbrella', 'handbag', 'tie', 'suitcase', 'frisbee', 'skis', 'snowboard', 'sports ball', 'kite', 'baseball bat', 'baseball glove', 'skateboard', 'surfboard', 'tennis racket', 'bottle', 'wine glass', 'cup', 'fork', 'knife', 'spoon', 'bowl', 'banana', 'apple', 'sandwich', 'orange', 'broccoli', 'carrot', 'hot dog', 'pizza', 'donut', 'cake', 'chair', 'sofa', 'pottedplant', 'bed', 'diningtable', 'toilet', 'tvmonitor', 'laptop', 'mouse', 'remote', 'keyboard', 'cell phone', 'microwave', 'oven', 'toaster', 'sink', 'refrigerator', 'book', 'clock', 'vase', 'scissors', 'teddy bear', 'hair drier', 'toothbrush']\n"
     ]
    }
   ],
   "source": [
    "import coco\n",
    "\n",
    "classNames = coco.load_coco_class_names_yolo()\n",
    "\n",
    "print(classNames)"
   ]
  },
  {
   "attachments": {},
   "cell_type": "markdown",
   "metadata": {},
   "source": [
    "- load yolo model"
   ]
  },
  {
   "cell_type": "code",
   "execution_count": 25,
   "metadata": {},
   "outputs": [],
   "source": [
    "model = \"model/yolov3-tiny.weights\"\n",
    "config = \"model/yolov3-tiny.cfg\"\n",
    "net = cv2.dnn.readNet(model, config)"
   ]
  },
  {
   "attachments": {},
   "cell_type": "markdown",
   "metadata": {},
   "source": [
    "- setup opencv dnn"
   ]
  },
  {
   "cell_type": "code",
   "execution_count": 26,
   "metadata": {},
   "outputs": [],
   "source": [
    "net.setPreferableBackend(cv2.dnn.DNN_BACKEND_OPENCV)\n",
    "net.setPreferableTarget(cv2.dnn.DNN_TARGET_CPU)"
   ]
  },
  {
   "cell_type": "code",
   "execution_count": 27,
   "metadata": {},
   "outputs": [],
   "source": [
    "layerOutput = net.getUnconnectedOutLayersNames()"
   ]
  },
  {
   "attachments": {},
   "cell_type": "markdown",
   "metadata": {},
   "source": [
    "- load image and conver to blob with `scaleFactor=1/255.0`"
   ]
  },
  {
   "cell_type": "code",
   "execution_count": 28,
   "metadata": {},
   "outputs": [],
   "source": [
    "img = cv2.imread(\"image1.jpg\")\n",
    "\n",
    "resize_h, resize_w = 416, 416 \n",
    "\n",
    "blob = cv2.dnn.blobFromImage(img, 1/255.0, (resize_w, resize_h), (0, 0, 0), swapRB=True, crop=True)"
   ]
  },
  {
   "attachments": {},
   "cell_type": "markdown",
   "metadata": {},
   "source": [
    "- do a forward pass"
   ]
  },
  {
   "cell_type": "code",
   "execution_count": 29,
   "metadata": {},
   "outputs": [],
   "source": [
    "net.setInput(blob)\n",
    "output = net.forward(layerOutput)"
   ]
  },
  {
   "cell_type": "code",
   "execution_count": 34,
   "metadata": {},
   "outputs": [
    {
     "data": {
      "text/plain": [
       "array([[0.04908054, 0.03362742, 0.21729007, ..., 0.        , 0.        ,\n",
       "        0.        ],\n",
       "       [0.03279549, 0.04129877, 0.24425814, ..., 0.        , 0.        ,\n",
       "        0.        ],\n",
       "       [0.03215993, 0.04665875, 1.0702353 , ..., 0.        , 0.        ,\n",
       "        0.        ],\n",
       "       ...,\n",
       "       [0.9450597 , 0.9522328 , 0.1726148 , ..., 0.        , 0.        ,\n",
       "        0.        ],\n",
       "       [0.96017295, 0.95637226, 0.20230849, ..., 0.        , 0.        ,\n",
       "        0.        ],\n",
       "       [0.97013605, 0.9604903 , 0.7899815 , ..., 0.        , 0.        ,\n",
       "        0.        ]], dtype=float32)"
      ]
     },
     "execution_count": 34,
     "metadata": {},
     "output_type": "execute_result"
    }
   ],
   "source": [
    "output[0]"
   ]
  },
  {
   "attachments": {},
   "cell_type": "markdown",
   "metadata": {},
   "source": [
    "- Postprocessing detection result via `utils.py`\n",
    "    - Apply [NMS Box](https://learnopencv.com/tag/cv-dnn-nmsboxes/)\n",
    "    - Draw Detection Box\n",
    "    - use `.postprocessTensorflow()` for Tensorflow Model\n",
    "    - use `.postprocessYolo()` for Yolo Model"
   ]
  },
  {
   "cell_type": "code",
   "execution_count": 8,
   "metadata": {},
   "outputs": [],
   "source": [
    "import utils \n",
    "\n",
    "utility = utils.Utils()\n",
    "\n",
    "img = utility.postprocessYolo(output, img, classNames, font_size=0.8)"
   ]
  },
  {
   "cell_type": "code",
   "execution_count": 9,
   "metadata": {},
   "outputs": [],
   "source": [
    "cv2.imshow(\"detection result\", img)\n",
    "cv2.waitKey()\n",
    "cv2.destroyAllWindows()"
   ]
  }
 ],
 "metadata": {
  "kernelspec": {
   "display_name": "Python 3",
   "language": "python",
   "name": "python3"
  },
  "language_info": {
   "codemirror_mode": {
    "name": "ipython",
    "version": 3
   },
   "file_extension": ".py",
   "mimetype": "text/x-python",
   "name": "python",
   "nbconvert_exporter": "python",
   "pygments_lexer": "ipython3",
   "version": "3.9.2"
  },
  "orig_nbformat": 4
 },
 "nbformat": 4,
 "nbformat_minor": 2
}
