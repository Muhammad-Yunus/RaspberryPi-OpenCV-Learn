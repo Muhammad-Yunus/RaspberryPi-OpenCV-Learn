{
 "cells": [
  {
   "attachments": {},
   "cell_type": "markdown",
   "metadata": {},
   "source": [
    "# Case Study \n",
    "- detect Object on Sample Image <br>\n",
    "<img src=\"sample2.jpg\" style=\"height:300px\">\n",
    "<img src=\"sample3.jpg\" style=\"height:300px\">"
   ]
  },
  {
   "attachments": {},
   "cell_type": "markdown",
   "metadata": {},
   "source": [
    "- Ekspektasi akhir bisa mengukur jarak\" berikut <br><br>\n",
    "<img src=\"resource/expected.jpeg\" style=\"width:500px\">"
   ]
  },
  {
   "attachments": {},
   "cell_type": "markdown",
   "metadata": {},
   "source": [
    "- temukan `lower` dan `upper` untuk warna yang ingin kita threshold\n",
    "    - gunakan `color_range_picker.py`\n",
    "    - untuk menggunakannya, jalankan pada terminal raspberry pi,\n",
    "        ```\n",
    "        python3 color_range_picker.py --mode 1 --camera 0\n",
    "        ```\n",
    "        atau, jika ingin dari gambar, \n",
    "        ```\n",
    "        python3 color_range_picker.py --mode 2 --image sample1.jpg\n",
    "        ```"
   ]
  },
  {
   "attachments": {},
   "cell_type": "markdown",
   "metadata": {},
   "source": [
    "- Result Thresholding di `sample2.jpg`\n",
    "    - blue lower `[96, 83, 89]`\n",
    "    - blue upper `[117, 255, 255]`\n",
    "    - object lower `[0, 7, 62]`\n",
    "    - object upper `[180, 30, 137]` <br><br>\n",
    "    <img src=\"resource/sample2_1_threshold.png\" style=\"width:400px\"></img>\n",
    "    <img src=\"resource/sample2_2_threshold.png\" style=\"width:400px\"></img>"
   ]
  },
  {
   "attachments": {},
   "cell_type": "markdown",
   "metadata": {},
   "source": [
    "- Deteksi object sangat sulit karena pengaruh noise.\n",
    "- kita gunakan gambar yang *background nya sudah dihilangkan* (`sample2-removebg.png`) untuk mempermudah deteksi.\n",
    "<img src=\"sample2-removebg.png\" style=\"width:400px\"></img>"
   ]
  },
  {
   "attachments": {},
   "cell_type": "markdown",
   "metadata": {},
   "source": [
    "- Result Thresholding di `sample2-removebg.png`\n",
    "    - object lower `[0, 3, 13]`\n",
    "    - object upper `[180, 61, 125]` <br><br>\n",
    "    <img src=\"resource/sample2_3_threshold.png\" style=\"width:400px\"></img>"
   ]
  },
  {
   "cell_type": "code",
   "execution_count": 1,
   "metadata": {},
   "outputs": [],
   "source": [
    "import cv2\n",
    "import numpy as np"
   ]
  },
  {
   "attachments": {},
   "cell_type": "markdown",
   "metadata": {},
   "source": [
    "- Test Draw Contour blue & object"
   ]
  },
  {
   "cell_type": "code",
   "execution_count": 2,
   "metadata": {},
   "outputs": [],
   "source": [
    "# define range of blue color in HSV\n",
    "# lower = np.array([96, 83, 89])\n",
    "# upper = np.array([117, 255, 255])\n",
    "\n",
    "# define range of object color in HSV\n",
    "lower = np.array([0, 7, 62])\n",
    "upper = np.array([180, 30, 137])\n",
    "\n",
    "\n",
    "img = cv2.imread('sample2-removebg.png')\n",
    "f = 320 / img.shape[1]\n",
    "img = cv2.resize(img, (0,0), fx=f, fy=f)\n",
    "\n",
    "hsv = cv2.cvtColor(img, cv2.COLOR_BGR2HSV)\n",
    "mask = cv2.inRange(hsv.copy(), lower, upper)\n",
    "res = cv2.bitwise_and(img, img, mask= mask)\n",
    "\n",
    "# find contour from mask image using RETR_EXTERNAL method\n",
    "contours, hierarchy = cv2.findContours(mask, cv2.RETR_EXTERNAL, cv2.CHAIN_APPROX_NONE)\n",
    "\n",
    "# draw contour to the original image\n",
    "for contour_item in contours:\n",
    "    cv2.drawContours(img, contour_item, -1, (0, 0, 255), 2)\n",
    "\n",
    "# show image\n",
    "cv2.imshow('Draw Contour',img)\n",
    "cv2.imshow('Threshold Image', res)\n",
    "cv2.waitKey(0) # display the window infinitely until any keypress\n",
    "cv2.destroyAllWindows()"
   ]
  },
  {
   "attachments": {},
   "cell_type": "markdown",
   "metadata": {},
   "source": [
    "- Result Find Contour in `sample2-removebg.png` <br><br>\n",
    "<img src=\"resource/sample2-1-contour.png\" style=\"width:500px\"></img>\n",
    "<img src=\"resource/sample2-4-contour.png\" style=\"width:500px\"></img>\n",
    "<br><br>\n",
    "\n",
    "- Result Find Contour in `sample2-removebg-edited.png` <br><br>\n",
    "<img src=\"resource/sample2-2-contour.png\" style=\"width:500px\"></img>\n",
    "<img src=\"resource/sample2-3-contour.png\" style=\"width:500px\"></img>"
   ]
  },
  {
   "attachments": {},
   "cell_type": "markdown",
   "metadata": {},
   "source": [
    "- removing small contour using `aspecRation` and `extent`"
   ]
  },
  {
   "cell_type": "code",
   "execution_count": 4,
   "metadata": {},
   "outputs": [
    {
     "name": "stdout",
     "output_type": "stream",
     "text": [
      "aspect ratio : 1.47, extent : 0.22, area : 972.50\n",
      "aspect ratio : 1.50, extent : 0.18, area : 984.50\n"
     ]
    }
   ],
   "source": [
    "# define range of blue color in HSV\n",
    "# lower = np.array([96, 83, 89])\n",
    "# upper = np.array([117, 255, 255])\n",
    "\n",
    "# define range of object color in HSV\n",
    "lower = np.array([0, 7, 62])\n",
    "upper = np.array([180, 30, 137])\n",
    "\n",
    "\n",
    "img = cv2.imread('sample2-removebg-edited.png')\n",
    "f = 320 / img.shape[1]\n",
    "img = cv2.resize(img, (0,0), fx=f, fy=f)\n",
    "\n",
    "hsv = cv2.cvtColor(img, cv2.COLOR_BGR2HSV)\n",
    "mask = cv2.inRange(hsv.copy(), lower, upper)\n",
    "res = cv2.bitwise_and(img, img, mask= mask)\n",
    "\n",
    "\n",
    "# find contour from mask image using RETR_EXTERNAL method\n",
    "contours, hierarchy = cv2.findContours(mask, cv2.RETR_EXTERNAL, cv2.CHAIN_APPROX_NONE)\n",
    "\n",
    "# draw contour to the original image\n",
    "# write bounding rectangle at position x,y\n",
    "for contour_item in contours:\n",
    "    \n",
    "    x, y, w, h = cv2.boundingRect(contour_item)\n",
    "    area = cv2.contourArea(contour_item)\n",
    "    \n",
    "    # calculate aspect_ratio & extent\n",
    "    aspect_ratio = float(w)/h \n",
    "    rect_area = w*h\n",
    "    extent = float(area)/rect_area\n",
    "\n",
    "    \n",
    "    # filter contour with aspect ratio and extend blue\n",
    "    #if aspect_ratio < 3 and aspect_ratio > 1 and extent > 0.2 and  extent < 0.4 and area > 1500:\n",
    "    \n",
    "    # filter contour with aspect ratio and extend object\n",
    "    if aspect_ratio < 3 and aspect_ratio > 1 and extent > 0.1 and  extent < 0.3 and area > 700:    \n",
    "        cv2.drawContours(img, contour_item, -1, (0,255,255), 1)\n",
    "        \n",
    "        text = \"(%d, %d, %d, %d)\" % (x, y, w, h)\n",
    "        cv2.putText(img, text, (x,y), cv2.FONT_HERSHEY_SIMPLEX, 0.4, (0,0,0), 1)\n",
    "\n",
    "        cv2.rectangle(img,        # input image\n",
    "            (x, y),               # (x1, y1)\n",
    "            (x + w, y + h),       # (x2, y2)\n",
    "            (0,0,255),            # (B, G, R)\n",
    "            2)                    # thickness\n",
    "        print (\"aspect ratio : %.2f, extent : %.2f, area : %.2f\" % (aspect_ratio, extent, area))\n",
    "\n",
    "# show image\n",
    "cv2.imshow('Draw Contour',img)\n",
    "cv2.imshow('Threshold Image', res)\n",
    "cv2.waitKey(0) # display the window infinitely until any keypress\n",
    "cv2.destroyAllWindows()        "
   ]
  },
  {
   "attachments": {},
   "cell_type": "markdown",
   "metadata": {},
   "source": [
    "- Result Filter Contour in `sample2-removebg.png` <br><br>\n",
    "<img src=\"resource/sample2-1-filter.png\" style=\"width:500px\"></img>\n",
    "<img src=\"resource/sample2-2-filter.png\" style=\"width:500px\"></img>\n",
    "<br><br>\n",
    "\n",
    "- Result Find Contour in `sample2-removebg-edited.png` <br><br>\n",
    "<img src=\"resource/sample2-1-filter.png\" style=\"width:500px\"></img>\n",
    "<img src=\"resource/sample2-4-filter.png\" style=\"width:500px\"></img>\n",
    "<br><br>"
   ]
  },
  {
   "attachments": {},
   "cell_type": "markdown",
   "metadata": {},
   "source": [
    "- Kombinasikan program deteksi warna biru dan object\n",
    "- Agar hasil deteksinya bagus kita gunakan `drawer.py` untuk membantu men-drawing result deteksi ke gambar."
   ]
  },
  {
   "cell_type": "code",
   "execution_count": 2,
   "metadata": {},
   "outputs": [],
   "source": [
    "import drawer \n",
    "\n",
    "dw = drawer.Drawer()"
   ]
  },
  {
   "cell_type": "code",
   "execution_count": 3,
   "metadata": {},
   "outputs": [],
   "source": [
    "# define range of object color in HSV\n",
    "lower = np.array([0, 7, 62])\n",
    "upper = np.array([180, 30, 137])\n",
    "\n",
    "\n",
    "img = cv2.imread('sample2-removebg-edited.png')\n",
    "f = 320 / img.shape[1]\n",
    "img = cv2.resize(img, (0,0), fx=f, fy=f)\n",
    "\n",
    "hsv = cv2.cvtColor(img, cv2.COLOR_BGR2HSV)\n",
    "mask = cv2.inRange(hsv.copy(), lower, upper)\n",
    "res = cv2.bitwise_and(img, img, mask= mask)\n",
    "\n",
    "\n",
    "# find contour from mask image using RETR_EXTERNAL method\n",
    "contours, hierarchy = cv2.findContours(mask, cv2.RETR_EXTERNAL, cv2.CHAIN_APPROX_NONE)\n",
    "\n",
    "# draw contour to the original image\n",
    "# write bounding rectangle at position x,y\n",
    "for contour_item in contours:\n",
    "    \n",
    "    x, y, w, h = cv2.boundingRect(contour_item)\n",
    "    area = cv2.contourArea(contour_item)\n",
    "    \n",
    "    # calculate aspect_ratio & extent\n",
    "    aspect_ratio = float(w)/h \n",
    "    rect_area = w*h\n",
    "    extent = float(area)/rect_area\n",
    "\n",
    "    \n",
    "    # filter contour with aspect ratio and extend object\n",
    "    if aspect_ratio < 3 and aspect_ratio > 1 and extent > 0.1 and  extent < 0.3 and area > 700:    \n",
    "\n",
    "        # draw line and put text via drawer.py draw_distance\n",
    "        img = dw.draw_distance(img, 0, y+h, x, y+h)\n",
    "\n",
    "# draw line and put text via drawer.py draw cross line \n",
    "img = dw.draw_cross_line(img)\n",
    "\n",
    "# show image\n",
    "cv2.imshow('Draw Contour',img)\n",
    "cv2.imshow('Threshold Image', res)\n",
    "cv2.waitKey(0) # display the window infinitely until any keypress\n",
    "cv2.destroyAllWindows()        "
   ]
  },
  {
   "attachments": {},
   "cell_type": "markdown",
   "metadata": {},
   "source": [
    "- Result Kombinasi program dengan `drawer.py` di `sample2-removebg-edited.png` <br><br>\n",
    "<img src=\"resource/sample2-1-results.png\" style=\"width:900px\"></img>"
   ]
  }
 ],
 "metadata": {
  "kernelspec": {
   "display_name": "Python 3",
   "language": "python",
   "name": "python3"
  },
  "language_info": {
   "codemirror_mode": {
    "name": "ipython",
    "version": 3
   },
   "file_extension": ".py",
   "mimetype": "text/x-python",
   "name": "python",
   "nbconvert_exporter": "python",
   "pygments_lexer": "ipython3",
   "version": "3.9.2"
  },
  "orig_nbformat": 4
 },
 "nbformat": 4,
 "nbformat_minor": 2
}
