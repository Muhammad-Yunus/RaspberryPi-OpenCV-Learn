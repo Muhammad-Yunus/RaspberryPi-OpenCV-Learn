{
 "cells": [
  {
   "attachments": {},
   "cell_type": "markdown",
   "metadata": {},
   "source": [
    "___\n",
    "# OpenCV\n",
    "<img src=\"resource/opencv.png\" style=\"width: 100px; \"></img>\n",
    "\n",
    "*Open Source Computer Vision Library* | an open source computer vision and machine learning software library."
   ]
  },
  {
   "attachments": {},
   "cell_type": "markdown",
   "metadata": {},
   "source": [
    "**History | 20 Tahun  Library OpenCV**\n",
    "- Dirilis pertama kali oleh **Intel** pada tahun 1999\n",
    "- Versi alpha rilis secara public di *IEEE Conference on Computer Vision and Pattern Recognition* pada tahun 2000 \n",
    "- Versi 1.0 rilis pada tahun 2006 (C support) [(link)](https://opencv.org/anniversary/20/?p=366)\n",
    "- Versi 1.1 \"pre-release\" rilis tahun 2008\n",
    "- Development diserahkan kepada **Willow Garage** dan **Itseez** (*leading developer of OpenCV*) pada tahun 2008 [(link)](https://opencv.org/anniversary/20/?p=59)\n",
    "- **OpenCV 2**  (major update,  C++ support & Python Binding) rilis Oktober 2009 [(link)](https://opencv.org/anniversary/20/?p=145)\n",
    "- Pada tahun 2012 OpenCV di ambil alih oleh non-profit foundation **OpenCV.org** dan OpenCV mirasi ke **Github** [(link)](https://opencv.org/anniversary/20/?p=147)\n",
    "- **OpenCV 3.0**  release Juni 2015 (interface improvements, T-API – an OpenCL-based acceleration) [(link) ](https://opencv.org/anniversary/20/?p=150)\n",
    "- Pada tahun 2016 Intel mengakuisisi **Itseez**, sehingga OpenCV kembali dibawah **Intel** [(link)](https://opencv.org/anniversary/20/?p=152)\n",
    "- Akhir 2016 OpenCV merilis DNN module and JavaScript (**OpenCV.js**) support (OpenCV >= 3.3) [(link)](https://opencv.org/anniversary/20/?paged=2&cat=6)\n",
    "- Tahun 2018, Intel merilis **OpenVINO toolkit**, yang dapat digunakan sebagai backend OpenCV DNN [(link)](https://opencv.org/anniversary/20/?p=158) \n",
    "- **OpenCV 4.0**  release OpenCV G-API, Nov 2018\n",
    "- **OpenCV 4.7**  release Dec 2022"
   ]
  },
  {
   "attachments": {},
   "cell_type": "markdown",
   "metadata": {},
   "source": [
    "### Citra Digital\n",
    "\n",
    "- Citra digital (umumnya) terdiri dari **3 layer** (channel) warna **R, G & B**.\n",
    "- Tiap layer memiliki **tinggi** dan **lebar** citra yang sama.\n",
    "- Tiap titik pada layer memiliki nilai **8bit** (0 - 255) yag di sebut pixel. "
   ]
  },
  {
   "attachments": {},
   "cell_type": "markdown",
   "metadata": {},
   "source": [
    "<img src=\"resource/citradigital.png\" style=\"width: 500px; \"></img>\n",
    "\n",
    "- Ukuran citra bervariasi dari size yang kecil (320x240 pixel) hingga (4096x2190 pixel)/4K\n",
    "\n",
    "<img src=\"resource/ukurancitra.PNG\" style=\"width: 500px; \"></img>"
   ]
  },
  {
   "attachments": {},
   "cell_type": "markdown",
   "metadata": {},
   "source": [
    "- Read and Show Image"
   ]
  },
  {
   "cell_type": "code",
   "execution_count": null,
   "metadata": {},
   "outputs": [],
   "source": [
    "import cv2\n",
    "import numpy as np"
   ]
  },
  {
   "cell_type": "code",
   "execution_count": null,
   "metadata": {},
   "outputs": [],
   "source": [
    "cv2.__version__"
   ]
  },
  {
   "cell_type": "code",
   "execution_count": null,
   "metadata": {},
   "outputs": [],
   "source": [
    "img = cv2.imread(\"lena.jpg\") # read image from file `lena.jpg`"
   ]
  },
  {
   "cell_type": "code",
   "execution_count": null,
   "metadata": {},
   "outputs": [],
   "source": [
    "type(img)"
   ]
  },
  {
   "attachments": {},
   "cell_type": "markdown",
   "metadata": {},
   "source": [
    "- OpenCV Image is Numpy Array"
   ]
  },
  {
   "cell_type": "code",
   "execution_count": null,
   "metadata": {},
   "outputs": [],
   "source": [
    "img.shape"
   ]
  },
  {
   "cell_type": "code",
   "execution_count": null,
   "metadata": {},
   "outputs": [],
   "source": [
    "h, w, c = img.shape"
   ]
  },
  {
   "attachments": {},
   "cell_type": "markdown",
   "metadata": {},
   "source": [
    "- Access Image Channel\n",
    "\n",
    "![](resource/image_frame.png)"
   ]
  },
  {
   "cell_type": "code",
   "execution_count": null,
   "metadata": {},
   "outputs": [],
   "source": [
    "img[:, :, 0].shape # layer 0 (Blue)"
   ]
  },
  {
   "cell_type": "code",
   "execution_count": null,
   "metadata": {},
   "outputs": [],
   "source": [
    "img[:, :, 1].shape # layer 1 (Green)"
   ]
  },
  {
   "cell_type": "code",
   "execution_count": null,
   "metadata": {},
   "outputs": [],
   "source": [
    "img[:, :, 2].shape # layer 2 (Red)"
   ]
  },
  {
   "cell_type": "code",
   "execution_count": null,
   "metadata": {},
   "outputs": [],
   "source": [
    "# show image\n",
    "cv2.imshow('myapp',img)\n",
    "cv2.waitKey(0) # display the window infinitely until any keypress\n",
    "cv2.destroyAllWindows()"
   ]
  },
  {
   "attachments": {},
   "cell_type": "markdown",
   "metadata": {},
   "source": [
    "- Save Image "
   ]
  },
  {
   "cell_type": "code",
   "execution_count": null,
   "metadata": {},
   "outputs": [],
   "source": [
    "# save image\n",
    "cv2.imwrite('saved_lena.jpg', img)"
   ]
  },
  {
   "attachments": {},
   "cell_type": "markdown",
   "metadata": {},
   "source": [
    "- Read & Play Video"
   ]
  },
  {
   "cell_type": "code",
   "execution_count": null,
   "metadata": {},
   "outputs": [],
   "source": [
    "# load video source\n",
    "cap = cv2.VideoCapture('video.mp4')\n",
    "           \n",
    "# iterate for each frame in video\n",
    "while cap.isOpened():\n",
    "    \n",
    "    # get image on each frame\n",
    "    ret, frame = cap.read()\n",
    "    if not ret:\n",
    "        break\n",
    "\n",
    "    cv2.imshow('Frame',frame)\n",
    "\n",
    "    # wait 25ms per frame and close using 'q' \n",
    "    if cv2.waitKey(25) == ord('q'):\n",
    "          break\n",
    "\n",
    "cap.release()\n",
    "cv2.destroyAllWindows()"
   ]
  },
  {
   "attachments": {},
   "cell_type": "markdown",
   "metadata": {},
   "source": [
    "- Capture & Save Photo \n",
    "    - `0` in `cv2.VideoCapture(0)` is camera index, if you have two camera attached into Raspberry Pi, the next camera index is `1`"
   ]
  },
  {
   "cell_type": "code",
   "execution_count": null,
   "metadata": {},
   "outputs": [],
   "source": [
    "cap = cv2.VideoCapture(0)\n",
    "ret, frame = cap.read()\n",
    "\n",
    "if ret :\n",
    "    cv2.imwrite(\"my_photo.jpg\", frame)\n",
    "else :\n",
    "    print(\"can't save photo\")\n",
    "    \n",
    "cap.release()"
   ]
  },
  {
   "attachments": {},
   "cell_type": "markdown",
   "metadata": {},
   "source": [
    "- Capture & Play Video"
   ]
  },
  {
   "cell_type": "code",
   "execution_count": null,
   "metadata": {},
   "outputs": [],
   "source": [
    "# load video\n",
    "cap = cv2.VideoCapture(0)\n",
    "           \n",
    "# iterate for each frame in video\n",
    "while cap.isOpened():\n",
    "    \n",
    "    # get image on each frame\n",
    "    ret, frame = cap.read()\n",
    "    if not ret:\n",
    "        break\n",
    "\n",
    "    cv2.imshow('Frame',frame)\n",
    "\n",
    "    # wait 25ms per frame and close using 'q' \n",
    "    if cv2.waitKey(25) == ord('q'):\n",
    "          break\n",
    "\n",
    "\n",
    "cap.release()\n",
    "cv2.destroyAllWindows()"
   ]
  }
 ],
 "metadata": {
  "language_info": {
   "name": "python"
  },
  "orig_nbformat": 4
 },
 "nbformat": 4,
 "nbformat_minor": 2
}
