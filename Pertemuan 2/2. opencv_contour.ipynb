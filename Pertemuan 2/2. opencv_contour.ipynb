{
 "cells": [
  {
   "cell_type": "code",
   "execution_count": 1,
   "metadata": {},
   "outputs": [],
   "source": [
    "import cv2\n",
    "import numpy as np"
   ]
  },
  {
   "attachments": {},
   "cell_type": "markdown",
   "metadata": {},
   "source": [
    "# OpenCV Image Analysis\n",
    "\n",
    "- Find Contour\n",
    "- Draw Contour\n",
    "- Contour Hierarchy\n",
    "- Contour Feature\n",
    "- Contour Property"
   ]
  },
  {
   "attachments": {},
   "cell_type": "markdown",
   "metadata": {},
   "source": [
    "# 1. Find Contour\n",
    "\n",
    "<img src=\"resource/find_contour_ilustration.png\" style=\"width:600px; margin-bottom:10px\"></img>\n",
    "- Using method `cv2.findContour(img, mode, method)`\n",
    "- Where :\n",
    "    - `img` : input image\n",
    "    - `mode` :\n",
    "        - `cv2.CHAIN_APPROX_NONE` : all the boundary points are stored\n",
    "        - `cv2.CHAIN_APPROX_SIMPLE` : only end points / corner of that shape are stored <br>\n",
    "        <img src=\"resource/mode_find_contour.png\" style=\"width:300px; margin-top:10px\"></img>\n",
    "        - `with cv2.CHAIN_APPROX_NONE` (734 points) \n",
    "        - second image shows the one with `cv2.CHAIN_APPROX_SIMPLE` (only 4 points)\n",
    "    - `method` : \n",
    "        - `cv2.RETR_EXTERNAL`  : retrieves only the **extreme outer contours**.  It sets all contours to `hierarchy[i][2] = hierarchy[i][3] = -1`.\n",
    "        - `cv2.RETR_LIST`   : retrieves **all of the contours** without establishing any hierarchical relationships. \n",
    "        - `cv2.RETR_CCOMP`  : retrieves **all of the contours** and organizes them into a **two-level hierarchy**.  \n",
    "        - `cv2.RETR_TREE`   : retrieves **all of the contours** and reconstructs a **full hierarchy** of nested contours. \n",
    "        \n",
    "- Output : \n",
    "    - `contours` : list of countour location (x,y) : <br>\n",
    "    <img src=\"resource/hierarchy_moves.gif\" style=\"width:400px; margin-top:10px\"></img>\n",
    "    \n",
    "    - `hierarchy` : list of `[Next, Previous, First_Child, Parent]`, <br> Represource/entation of this relationship when some shapes are inside other shapes, we call outer one as **parent** and inner one as **child**. \n",
    "        - `Next` : next contour at the same hierarchical level.\n",
    "        - `Previous` : previous contour at the same hierarchical level.\n",
    "        - `First_Child` : first child contour.\n",
    "        - `Parent` : index of its parent contour. <br>\n",
    "        > *If there is no **child** or **parent**, that field is taken as -1*\n",
    "        - Example :<br>\n",
    "            <img src=\"resource/hierarchy.png\" style=\"width:400px; margin-top:10px\"></img>\n",
    "            - `Next` & `Previous` :\n",
    "                - Start from contour-0. Who is next contour in its same level ? It is contour-1. \n",
    "                - So simply put Next = 1. Similarly for Contour-1, next is contour-2. So Next = 2. \n",
    "                - What about contour-2? There is no next contour in the same level. \n",
    "                - So simply, put Next = -1. \n",
    "                - What about contour-4? It is in same level with contour-5. \n",
    "                - So its next contour is contour-5, so Next = 5.\n",
    "            - `First_Child` & `Parent` :\n",
    "                - For contour-2, child is contour-2a. \n",
    "                - So it gets the corresource/ponding index value of contour-2a. \n",
    "                - What about contour-3a? It has two children. \n",
    "                - But we take only first child. And it is contour-4. So First_Child = 4 for contour-3a."
   ]
  },
  {
   "attachments": {},
   "cell_type": "markdown",
   "metadata": {},
   "source": [
    "#### 1.1 Contour Method `cv2.RETR_EXTERNAL`\n",
    "- retrieves only the **extreme outer contours**. It sets all contours to `hierarchy[i][2] = hierarchy[i][3] = -1`."
   ]
  },
  {
   "cell_type": "code",
   "execution_count": 5,
   "metadata": {},
   "outputs": [],
   "source": [
    "img = cv2.imread('hierarchy.png')\n",
    "\n",
    "# convert to gray\n",
    "gray = cv2.cvtColor(img, cv2.COLOR_BGR2GRAY)\n",
    "\n",
    "# find contour\n",
    "contours, hierarchy = cv2.findContours(gray, cv2.RETR_EXTERNAL, cv2.CHAIN_APPROX_NONE)"
   ]
  },
  {
   "attachments": {},
   "cell_type": "markdown",
   "metadata": {},
   "source": [
    "<img src=\"hierarchy.png\" style=\"width:400px; margin-top:10px\"></img><br>\n",
    "- hierarchy of contour\n",
    "- `[Next, Previous, First_Child, Parent]`"
   ]
  },
  {
   "cell_type": "code",
   "execution_count": 3,
   "metadata": {},
   "outputs": [
    {
     "data": {
      "text/plain": [
       "array([[[ 1, -1, -1, -1],\n",
       "        [ 2,  0, -1, -1],\n",
       "        [-1,  1, -1, -1]]], dtype=int32)"
      ]
     },
     "execution_count": 3,
     "metadata": {},
     "output_type": "execute_result"
    }
   ],
   "source": [
    "hierarchy"
   ]
  },
  {
   "attachments": {},
   "cell_type": "markdown",
   "metadata": {},
   "source": [
    "- if we choose method `RETR_EXTERNAL`,\n",
    "- there is **no First_Child** and **Parent** on the hierarchy,\n",
    "- since this method only retrieve **extreame outer contour**"
   ]
  },
  {
   "attachments": {},
   "cell_type": "markdown",
   "metadata": {},
   "source": [
    "### 1.2 Draw Contour `cv2.drawContour()`\n",
    "\n",
    "- Using method `cv2.drawContours(img, contour, contour_index, (B,G,R), thickness)`\n",
    "- where :\n",
    "    - `img` : input image\n",
    "    - `contour` : contour location (list)\n",
    "    - `contour_index` : parameter indicating a contour to draw. If it is negative, all the contours are drawn.\n",
    "    - `(B,G,R)` : contour color\n",
    "    - `thickness` : contour thickness"
   ]
  },
  {
   "cell_type": "code",
   "execution_count": 6,
   "metadata": {},
   "outputs": [],
   "source": [
    "# draw contours on image\n",
    "for contour_item in contours:\n",
    "    cv2.drawContours(img, contour_item, -1, (0, 255, 255), 3)\n",
    "\n",
    "# show image\n",
    "cv2.imshow('Draw Contour',img)\n",
    "cv2.waitKey(0) # display the window infinitely until any keypress\n",
    "cv2.destroyAllWindows()"
   ]
  },
  {
   "attachments": {},
   "cell_type": "markdown",
   "metadata": {},
   "source": [
    "### 1.3 Combine Range Thresholding and Find Contour\n",
    "- find contour of blocks color"
   ]
  },
  {
   "cell_type": "code",
   "execution_count": 9,
   "metadata": {},
   "outputs": [],
   "source": [
    "# define range of blue color in HSV\n",
    "lower = np.array([110, 50, 50])\n",
    "upper = np.array([130, 255, 255])\n",
    "\n",
    "img = cv2.imread('blocks.jpg')\n",
    "\n",
    "hsv = cv2.cvtColor(img, cv2.COLOR_BGR2HSV)\n",
    "mask = cv2.inRange(hsv.copy(), lower, upper)\n",
    "res = cv2.bitwise_and(img, img, mask= mask)\n",
    "\n",
    "# find contour from mask image using RETR_EXTERNAL method\n",
    "contours, hierarchy = cv2.findContours(mask, cv2.RETR_EXTERNAL, cv2.CHAIN_APPROX_NONE)\n",
    "\n",
    "# draw contour to the original image\n",
    "for contour_item in contours:\n",
    "    cv2.drawContours(img, contour_item, -1, (0, 0, 255), 2)\n",
    "\n",
    "# show image\n",
    "cv2.imshow('Draw Contour',img)\n",
    "cv2.imshow('Threshold Image', res)\n",
    "cv2.waitKey(0) # display the window infinitely until any keypress\n",
    "cv2.destroyAllWindows()"
   ]
  },
  {
   "attachments": {},
   "cell_type": "markdown",
   "metadata": {},
   "source": [
    "# 2. Contour Feature \n",
    "### 2.1 Contour Feature\n",
    "- **Contour Area (luasan)** <br>\n",
    "    `area = cv2.contourArea(contour_item)`<br><br>\n",
    "- **Contour Perimeter (keliling)** <br>\n",
    "    `perimeter = cv2.arcLength(contour_item,True)`<br><br>\n",
    "- **Bounding Rectangle** <br>\n",
    "    <img src=\"resource//boundingrect.png\" style=\"width:200px; margin-top:10px;\"></img>\n",
    "    - **Straight Bounding Rectangle** <br>\n",
    "        it doesn't consider the rotation of the object. So area of the bounding rectangle won't be minimum. <br>\n",
    "        `rect = cv2.boundingRect(contour_item)`<br>\n",
    "        where `rect` is list contain `x,y,w,h` point of rectangle.<br><br>\n",
    "    - **Rotated Rectangle** <br>\n",
    "        drawn with minimum area, so it considers the rotation also.<br>\n",
    "        `rect = cv2.minAreaRect(contour_item)`<br>\n",
    "        where `rect` is center `(x,y), (width, height), angle` of rotation<br><br>\n",
    "- **Contour Approximation** <br>\n",
    "    It approximates a contour shape to another shape with less number of vertices depending upon the precision we specify.<br> \n",
    "    `epsilon = 0.1*cv2.arcLength(contour_item,True)` <br>\n",
    "    `approx = cv2.approxPolyDP(contour_item,epsilon,True)` <br>\n",
    "    Below, in second image, green line shows the approximated curve for epsilon = 10% of arc length. <br>\n",
    "    Third image shows the same for epsilon = 1% of the arc length. <br>\n",
    "    <img src=\"resource//approx.jpg\" style=\"width:600px; margin-top:10px;\"></img><br><br>\n",
    "- **Convex Hull** <br>\n",
    "    Convex Hull checks a curve for convexity defects and corrects it. <br>\n",
    "    `hull = cv2.convexHull(points[, hull[, clockwise[, returnPoints]]` <br>\n",
    "    `points` are the contours we pass into. <br>\n",
    "    `hull` is the output, normally we avoid it. <br>\n",
    "    `clockwise` : Orientation flag. If it is True, the output convex hull is oriented clockwise. Otherwise, it is oriented counter-clockwise. <br>\n",
    "    `returnPoints` : By default, True. Then it returns the coordinates of the hull points. If False, it returns the indices of contour points corresource/ponding to the hull points. <br>\n",
    "    But if you want to find convexity defects, you need to pass `returnPoints = False`.<br>\n",
    "    <img src=\"resource//convexitydefects.jpg\" style=\"width:200px; margin-top:10px;\"></img><br><br>\n",
    "- **Minimum Enclosing Circle** <br>\n",
    "    `(x,y),radius = cv2.minEnclosingCircle(contour_item)` <br>\n",
    "    `center = (int(x),int(y))` <br>\n",
    "    `radius = int(radius)` <br>\n",
    "    <img src=\"resource//circumcircle.png\" style=\"width:200px; margin-top:10px;\"></img><br><br>\n",
    "- **Fitting an Ellipse** <br>\n",
    "    `ellipse = cv2.fitEllipse(contour_item)` <br>\n",
    "    `cv2.ellipse(img,ellipse,(0,255,0),2)` <br>\n",
    "    <img src=\"resource//fitellipse.png\" style=\"width:200px; margin-top:10px;\"></img><br><br>\n",
    "- **Fitting a Line** <br>\n",
    "    `rows,cols = img.shape[:2]` <br>\n",
    "    `[vx,vy,x,y] = cv2.fitLine(contour_item, cv2.DIST_L2,0,0.01,0.01)` <br>\n",
    "    `lefty = int((-x*vy/vx) + y)` <br>\n",
    "    `righty = int(((cols-x)*vy/vx)+y)` <br>\n",
    "    <img src=\"resource//fitline.jpg\" style=\"width:200px; margin-top:10px;\"></img>"
   ]
  },
  {
   "attachments": {},
   "cell_type": "markdown",
   "metadata": {},
   "source": [
    "- Find contour position using `cv2.boundingRect(contour_item)`"
   ]
  },
  {
   "cell_type": "code",
   "execution_count": 10,
   "metadata": {},
   "outputs": [],
   "source": [
    "# define range of blue color in HSV\n",
    "lower = np.array([110, 50, 50])\n",
    "upper = np.array([130, 255, 255])\n",
    "\n",
    "img = cv2.imread('blocks.jpg')\n",
    "\n",
    "hsv = cv2.cvtColor(img, cv2.COLOR_BGR2HSV)\n",
    "mask = cv2.inRange(hsv.copy(), lower, upper)\n",
    "res = cv2.bitwise_and(img, img, mask= mask)\n",
    "\n",
    "# find contour from mask image using RETR_EXTERNAL method\n",
    "contours, hierarchy = cv2.findContours(mask, cv2.RETR_EXTERNAL, cv2.CHAIN_APPROX_NONE)\n",
    "\n",
    "# draw contour to the original image\n",
    "# write bounding rectangle at position x,y\n",
    "for contour_item in contours:\n",
    "    \n",
    "    x, y, w, h = cv2.boundingRect(contour_item)\n",
    "    text = \"(%d, %d, %d, %d)\" % (x, y, w, h)\n",
    "    cv2.putText(img, text, (x,y), cv2.FONT_HERSHEY_SIMPLEX, 0.5, (0,0,0), 1)\n",
    "    \n",
    "    cv2.rectangle(img,              # input image\n",
    "              (x, y),               # (x1, y1)\n",
    "              (x + w, y + h),       # (x2, y2)\n",
    "              (0,0,255),            # (B, G, R)\n",
    "              1)                   # thickness\n",
    "    \n",
    "    #cv2.drawContours(img, contour_item, -1, (0, 0, 255), 2)\n",
    "\n",
    "# show image\n",
    "cv2.imshow('Draw Contour',img)\n",
    "cv2.imshow('Threshold Image', res)\n",
    "cv2.waitKey(0) # display the window infinitely until any keypress\n",
    "cv2.destroyAllWindows()"
   ]
  },
  {
   "attachments": {},
   "cell_type": "markdown",
   "metadata": {},
   "source": [
    "___\n",
    "### 2.2 Contour Property\n",
    "- **Aspect Ratio**\n",
    "    - It is the ratio of width to height of bounding rect of the object.\n",
    "    ```\n",
    "    x,y,w,h = cv2.boundingRect(contour_item)\n",
    "    aspect_ratio = w/h\n",
    "    ``` \n",
    "<br><br>\n",
    "- **Extent**\n",
    "    - Extent is the ratio of contour area to bounding rectangle area.\n",
    "    ```\n",
    "    area = cv2.contourArea(contour_item)\n",
    "    x,y,w,h = cv2.boundingRect(contour_item)\n",
    "    rect_area = w*h\n",
    "    extent = area/rect_area\n",
    "    ```\n",
    "<br><br>\n",
    "- **Solidity**\n",
    "    - Solidity is the ratio of contour area to its convex hull area.\n",
    "    ```\n",
    "    area = cv2.contourArea(contour_item)\n",
    "    hull = cv2.convexHull(contour_item)\n",
    "    hull_area = cv2.contourArea(hull)\n",
    "    solidity = area/hull_area\n",
    "    ```\n",
    "<br><br>\n",
    "- **Contour Mask**\n",
    "    - Create mask image (binary image) from detected contour\n",
    "    ```\n",
    "    mask = np.zeros(binary_img.shape, np.uint8)\n",
    "    cv.drawContours(mask, [cnt], 0, 255, -1)\n",
    "    ```\n",
    "<br><br>\n",
    "- **Extreme Points**\n",
    "    ```\n",
    "    leftmost = tuple(cnt[cnt[:,:,0].argmin()][0])\n",
    "    rightmost = tuple(cnt[cnt[:,:,0].argmax()][0])\n",
    "    topmost = tuple(cnt[cnt[:,:,1].argmin()][0])\n",
    "    bottommost = tuple(cnt[cnt[:,:,1].argmax()][0])\n",
    "    ```\n",
    "    ![](resource/extremepoints.jpg)\n",
    "\n",
    "<br><br>\n",
    "- **4 vertices Rotated Rectangle**\n",
    "    - Finds the 4 vertices of a rotated rect. Useful to draw the rotated rectangle.\n",
    "    - method : `cv2.boxPoints(box)` :\n",
    "    - where :\n",
    "        - `box` : The input rotated rectangle. It may be the output of `cv2.minAreaRect(cnt)`<br><br>"
   ]
  },
  {
   "attachments": {},
   "cell_type": "markdown",
   "metadata": {},
   "source": [
    "- Filter Contour by `Aspect Ratio` and `Extent`"
   ]
  },
  {
   "cell_type": "code",
   "execution_count": 14,
   "metadata": {},
   "outputs": [
    {
     "name": "stdout",
     "output_type": "stream",
     "text": [
      "aspect ratio : 1.71, extent : 0.96, area : 2368.00\n",
      "aspect ratio : 1.71, extent : 0.96, area : 2368.00\n"
     ]
    }
   ],
   "source": [
    "# define range of green box in object_sample.png\n",
    "lower = np.array([32, 0, 0])\n",
    "upper = np.array([71, 255, 255])\n",
    "\n",
    "img = cv2.imread('noised_object_sample.png')\n",
    "\n",
    "hsv = cv2.cvtColor(img, cv2.COLOR_BGR2HSV)\n",
    "mask = cv2.inRange(hsv.copy(), lower, upper)\n",
    "res = cv2.bitwise_and(img, img, mask= mask)\n",
    "\n",
    "\n",
    "# find contour from mask image using RETR_EXTERNAL method\n",
    "contours, hierarchy = cv2.findContours(mask, cv2.RETR_EXTERNAL, cv2.CHAIN_APPROX_NONE)\n",
    "\n",
    "# draw contour to the original image\n",
    "# write bounding rectangle at position x,y\n",
    "for contour_item in contours:\n",
    "    \n",
    "    x, y, w, h = cv2.boundingRect(contour_item)\n",
    "    area = cv2.contourArea(contour_item)\n",
    "    \n",
    "    # calculate aspect_ratio & extent\n",
    "    aspect_ratio = float(w)/h \n",
    "    rect_area = w*h\n",
    "    extent = float(area)/rect_area\n",
    "\n",
    "    \n",
    "    # filter contour with aspect ratio less than 1 and more than 0.1 \n",
    "    # and extent greater than 0.4 (rejecting long contour with small filled area)\n",
    "    # area more than 200 pixel (rejecting small contour)\n",
    "    if aspect_ratio < 2 and aspect_ratio > 1 and extent > 0.9 and area > 1500:\n",
    "        \n",
    "        cv2.drawContours(img, contour_item, -1, (0,255,255), 1)\n",
    "        \n",
    "        text = \"(%d, %d, %d, %d)\" % (x, y, w, h)\n",
    "        cv2.putText(img, text, (x,y), cv2.FONT_HERSHEY_SIMPLEX, 0.4, (0,0,0), 1)\n",
    "        \n",
    "        cv2.rectangle(img,        # input image\n",
    "            (x, y),               # (x1, y1)\n",
    "            (x + w, y + h),       # (x2, y2)\n",
    "            (0,0,255),            # (B, G, R)\n",
    "            2)                    # thickness\n",
    "        print (\"aspect ratio : %.2f, extent : %.2f, area : %.2f\" % (aspect_ratio, extent, area))\n",
    "\n",
    "# show image\n",
    "cv2.imshow('Draw Contour',img)\n",
    "cv2.imshow('Threshold Image', res)\n",
    "cv2.waitKey(0) # display the window infinitely until any keypress\n",
    "cv2.destroyAllWindows()        "
   ]
  }
 ],
 "metadata": {
  "kernelspec": {
   "display_name": "Python 3",
   "language": "python",
   "name": "python3"
  },
  "language_info": {
   "codemirror_mode": {
    "name": "ipython",
    "version": 3
   },
   "file_extension": ".py",
   "mimetype": "text/x-python",
   "name": "python",
   "nbconvert_exporter": "python",
   "pygments_lexer": "ipython3",
   "version": "3.9.2"
  },
  "orig_nbformat": 4
 },
 "nbformat": 4,
 "nbformat_minor": 2
}
