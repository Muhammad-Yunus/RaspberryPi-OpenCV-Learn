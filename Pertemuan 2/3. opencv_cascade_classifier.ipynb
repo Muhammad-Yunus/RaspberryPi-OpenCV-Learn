{
 "cells": [
  {
   "cell_type": "code",
   "execution_count": 1,
   "metadata": {},
   "outputs": [],
   "source": [
    "import cv2 \n",
    "import numpy as np"
   ]
  },
  {
   "attachments": {},
   "cell_type": "markdown",
   "metadata": {},
   "source": [
    "# OpenCV Casecade Classifier\n",
    "\n",
    "### Face Casecade Classifier\n",
    "<img src=\"resource/lena_face.png\" style=\"width:250px\"></img><br>\n",
    "- Object Detection OpenCV is using **Haar feature-based cascade classifiers.**\n",
    "- Is an effective object detection method proposed by Paul Viola and Michael Jones in their paper, \"Rapid Object Detection using a Boosted Cascade of Simple Features\" in 2001.\n",
    "- **Haar features** just like normal convolutional kernel, <br><br>\n",
    "<img src=\"resource/haar_feature.png\"></img><br><br>\n",
    "- Each feature is a single value obtained by **subtracting** sum of pixels under the **white rectangle** from sum of pixels under the **black rectangle**. <br><br>\n",
    "<img src=\"resource/face_haar_feature.png\" style=\"width:600px;background-color:white\"></img><br><br>\n",
    "- `lena.jpg` convolving proses to detect face using haar feature, <br><br>\n",
    "<img src=\"resource/convolving_haar_feature.gif\" style=\"width:250px\"></img>"
   ]
  },
  {
   "attachments": {},
   "cell_type": "markdown",
   "metadata": {},
   "source": [
    "- Class `cv2.CascadeClassifier()` digunakan untuk membaca classifier file (**.xml**)\n",
    "- Pada class `cv2.CascadeClassifier()` terdapat method `.detectMultiscale()` untuk melakukan deteksi objek pada sebuah citra.\n",
    "- Method `.detectMultiscale()` memiliki beberapa parameter input,\n",
    "    - `scaleFactor` : Ukuran seberapa besar input image direduksi agar mampu dibaca oleh detector algorithm. Hal inilah yang memungkinkan algorima dapat mendeteksi wajah dalam beragam skala gambar (multi scale image).\n",
    "    - `minNeighbors` : Ukuran minimum antara posisi face rectangle satu terhadap lainya. Hal ini berkaitan dengan method `.detectMultiscale()` yang akan melakukan sliding window terhadap image. Jika kita set ke 0, maka banyak false positive face rectangle terdeteksi. sehingga kita akan pilih nilai yang lebih tinggi. Namun jangan sampai memilih nilai yang terlalu besar, yang mengakibatkan true positive face rectangle menjadi tidak terdeteksi.\n",
    "    - `flags` : Parameter yang sama pada method cvHaarDetectObjects. Ini tidak digunakan pada Cascade Classifier terbaru.\n",
    "    - `minSize` : Ukuran object minimal. Ukuran yang lebih kecil tidak akan dimasukan kedalam detected object.\n",
    "    - `maxSize` : Ukuran object maksimal. Ukuran yang lebih besar tidak akan dimasukan kedalam detected object."
   ]
  },
  {
   "attachments": {},
   "cell_type": "markdown",
   "metadata": {},
   "source": [
    "- Face Detection (`haarcascade_frontalface_default.xml`)"
   ]
  },
  {
   "cell_type": "code",
   "execution_count": 5,
   "metadata": {},
   "outputs": [],
   "source": [
    "# load model haarcascade_frontalface_default.xml\n",
    "face_cascade = cv2.CascadeClassifier('haarcascades/haarcascade_frontalface_default.xml')\n",
    "\n",
    "img = cv2.imread(\"people.jpg\")\n",
    "\n",
    "# conver to gray\n",
    "gray = cv2.cvtColor(img, cv2.COLOR_BGR2GRAY)\n",
    "\n",
    "# detect face on gray image\n",
    "faces = face_cascade.detectMultiScale(gray, 1.7, 5)\n",
    "\n",
    "for (x,y,w,h) in faces:\n",
    "    # draw rectangle on detected face coordinate\n",
    "    img = cv2.rectangle(img,(x,y),(x+w,y+h),(255,0,0),2)\n",
    "\n",
    "cv2.imshow('img',img)\n",
    "cv2.waitKey(0)\n",
    "cv2.destroyAllWindows()"
   ]
  },
  {
   "attachments": {},
   "cell_type": "markdown",
   "metadata": {},
   "source": [
    "- Detect Face from Camera"
   ]
  },
  {
   "cell_type": "code",
   "execution_count": 6,
   "metadata": {},
   "outputs": [
    {
     "name": "stderr",
     "output_type": "stream",
     "text": [
      "[ WARN:0] global /home/pi/build_opencv/opencv/modules/videoio/src/cap_gstreamer.cpp (1081) open OpenCV | GStreamer warning: Cannot query video position: status=0, value=-1, duration=-1\n"
     ]
    }
   ],
   "source": [
    "# load model haarcascade_frontalface_default.xml\n",
    "face_cascade = cv2.CascadeClassifier('haarcascades/haarcascade_frontalface_default.xml')\n",
    "\n",
    "cap = cv2.VideoCapture(1)\n",
    "\n",
    "while cap.isOpened():\n",
    "    ret, frame = cap.read()\n",
    "    if not ret:\n",
    "        break\n",
    "    \n",
    "    # resize image to width ~ 320px\n",
    "    w = frame.shape[1] \n",
    "    f = 320 / w \n",
    "    frame = cv2.resize(frame, (0,0), fx=f, fy=f)\n",
    "\n",
    "    # conver to gray\n",
    "    gray = cv2.cvtColor(frame, cv2.COLOR_BGR2GRAY)\n",
    "\n",
    "    # detect face on gray image\n",
    "    faces = face_cascade.detectMultiScale(gray, 1.1, 5)\n",
    "    for (x, y, w, h) in faces:\n",
    "        # draw rectangle on detected face coordinate\n",
    "        cv2.rectangle(frame,(x,y),(x+w,y+h),(0,255,255),2)\n",
    "        \n",
    "    cv2.imshow('Detect Face', frame)\n",
    "    if cv2.waitKey(25) == ord('q'):\n",
    "        break\n",
    "\n",
    "cv2.destroyAllWindows()\n",
    "cap.release()"
   ]
  },
  {
   "attachments": {},
   "cell_type": "markdown",
   "metadata": {},
   "source": [
    "- Using custom box detection from `utils.draw_ped()`"
   ]
  },
  {
   "cell_type": "code",
   "execution_count": 8,
   "metadata": {},
   "outputs": [
    {
     "name": "stderr",
     "output_type": "stream",
     "text": [
      "[ WARN:0] global /home/pi/build_opencv/opencv/modules/videoio/src/cap_gstreamer.cpp (1081) open OpenCV | GStreamer warning: Cannot query video position: status=0, value=-1, duration=-1\n"
     ]
    }
   ],
   "source": [
    "import utils\n",
    "\n",
    "# load model haarcascade_frontalface_default.xml\n",
    "face_cascade = cv2.CascadeClassifier('haarcascades/haarcascade_frontalface_default.xml')\n",
    "\n",
    "cap = cv2.VideoCapture(1)\n",
    "\n",
    "while cap.isOpened():\n",
    "    ret, frame = cap.read()\n",
    "    if not ret:\n",
    "        break\n",
    "    \n",
    "    # resize image to width ~ 320px\n",
    "    w = frame.shape[1] \n",
    "    f = 320 / w \n",
    "    frame = cv2.resize(frame, (0,0), fx=f, fy=f)\n",
    "\n",
    "    # conver to gray\n",
    "    gray = cv2.cvtColor(frame, cv2.COLOR_BGR2GRAY)\n",
    "\n",
    "    # detect face on gray image\n",
    "    faces = face_cascade.detectMultiScale(gray, 1.1, 5)\n",
    "    for (x, y, w, h) in faces:\n",
    "        # draw rectangle \n",
    "        # draw_ped(image, label, x0, y0, x1, y1) on detected face coordinate\n",
    "        frame = utils.draw_ped(frame, \" Face \", x, y, x+w, y+h)\n",
    "        \n",
    "    cv2.imshow('Detect Face', frame)\n",
    "    if cv2.waitKey(25) == ord('q'):\n",
    "        break\n",
    "\n",
    "cv2.destroyAllWindows()\n",
    "cap.release()"
   ]
  }
 ],
 "metadata": {
  "kernelspec": {
   "display_name": "Python 3",
   "language": "python",
   "name": "python3"
  },
  "language_info": {
   "codemirror_mode": {
    "name": "ipython",
    "version": 3
   },
   "file_extension": ".py",
   "mimetype": "text/x-python",
   "name": "python",
   "nbconvert_exporter": "python",
   "pygments_lexer": "ipython3",
   "version": "3.9.2"
  },
  "orig_nbformat": 4
 },
 "nbformat": 4,
 "nbformat_minor": 2
}
