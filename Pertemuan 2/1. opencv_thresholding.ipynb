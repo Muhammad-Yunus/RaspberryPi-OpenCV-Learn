{
 "cells": [
  {
   "cell_type": "code",
   "execution_count": 1,
   "metadata": {},
   "outputs": [],
   "source": [
    "import cv2\n",
    "import numpy as np"
   ]
  },
  {
   "attachments": {},
   "cell_type": "markdown",
   "metadata": {},
   "source": [
    "## Convert BGR to Grayscale Image\n",
    "\n",
    " - Convert RGB to Grayscale Image using `cv2.cvtColor(img, cv2.COLOR_BGR2GRAY)`<br><br>\n",
    "<img src=\"resource/gray_image_2.png\" style=\"width: 400px; background-color:white\"></img><br>\n",
    "<img src=\"resource/gray_image.png\" style=\"width: 400px; background-color:white\"></img><br><br>\n",
    "\n",
    "- Another important conversion is from RGB to HSV using, `hsv = cv2.cvtColor(img, cv2.COLOR_BGR2HSV)`"
   ]
  },
  {
   "cell_type": "code",
   "execution_count": 3,
   "metadata": {},
   "outputs": [],
   "source": [
    "# convert BGR to Gray\n",
    "img = cv2.imread(\"lena.jpg\")\n",
    "\n",
    "img_gray = cv2.cvtColor(img, cv2.COLOR_BGR2GRAY)\n",
    "\n",
    "# show image\n",
    "cv2.imshow('myapp',img)\n",
    "cv2.waitKey(0) # display the window infinitely until any keypress\n",
    "cv2.destroyAllWindows()"
   ]
  },
  {
   "cell_type": "code",
   "execution_count": 4,
   "metadata": {},
   "outputs": [
    {
     "data": {
      "text/plain": [
       "(344, 354)"
      ]
     },
     "execution_count": 4,
     "metadata": {},
     "output_type": "execute_result"
    }
   ],
   "source": [
    "img_gray.shape"
   ]
  },
  {
   "cell_type": "code",
   "execution_count": 5,
   "metadata": {},
   "outputs": [
    {
     "data": {
      "text/plain": [
       "(344, 354, 3)"
      ]
     },
     "execution_count": 5,
     "metadata": {},
     "output_type": "execute_result"
    }
   ],
   "source": [
    "img.shape"
   ]
  },
  {
   "attachments": {},
   "cell_type": "markdown",
   "metadata": {},
   "source": [
    "- Convert Video to Grayscale"
   ]
  },
  {
   "cell_type": "code",
   "execution_count": 6,
   "metadata": {},
   "outputs": [],
   "source": [
    "cap = cv2.VideoCapture('video.mp4')\n",
    "\n",
    "while cap.isOpened():\n",
    "    ret, frame = cap.read()\n",
    "    \n",
    "    if not ret:\n",
    "        break \n",
    "\n",
    "    gray = cv2.cvtColor(frame, cv2.COLOR_BGR2GRAY)\n",
    "    \n",
    "    cv2.imshow('grayscale video', gray)\n",
    "    \n",
    "    if cv2.waitKey(25) == ord('q'):\n",
    "        break\n",
    "\n",
    "cap.release()\n",
    "cv2.destroyAllWindows()"
   ]
  },
  {
   "attachments": {},
   "cell_type": "markdown",
   "metadata": {},
   "source": [
    "## Image Thresholding\n",
    "\n",
    "- Now we will learn how to do **range based thresholding** using  `cv2.inRange()` function. <br>\n",
    "<img src=\"resource/Range_Thresh.png\" style=\"width: 500px; margin-top:10px; background-color:white\" > </img><br>\n",
    "<img src=\"resource/range-based-thresholding.png\" style=\"width: 500px; margin-top:10px; background-color:white\" > </img>\n",
    "- Method `cv2.inRange(img, lower_color, upper_color)`\n",
    "- where theparameter :\n",
    "    - `img` : input image (HSV color space)\n",
    "    - `lower_color` : tuple (H, S, V) of lower color \n",
    "    - `upper_color` : tuple (H, S, V) of upper color \n",
    "- `H, S, V` value range in OpenCV:\n",
    "    - `H` (0 - 180)\n",
    "    - `S` (0 - 255)\n",
    "    - `V` (0 - 255)\n",
    "- `cv2.inRange()` using **HSV colorspace**, since the **hue channel** models the **color type**, it is very useful in image processing tasks that need to **segment objects based on its color**.<br>\n",
    "<img src=\"resource/Threshold_inRange_HSV_colorspace.jpg\" style=\"width: 300px; margin-top:10px;\" > </img>\n",
    "- Since colors in the **RGB colorspace** are coded using the **three channels**, it is **more difficult** to segment an object in the image based on its color.<br>\n",
    "<img src=\"resource/Threshold_inRange_RGB_colorspace.jpg\" style=\"width: 300px\" > </img>\n",
    "- **HSV colorspace** model : <br>\n",
    "<img src=\"resource/HSV_hue_model.png\" style=\"width: 300px; margin-top:10px; background-color:white\" > </img>"
   ]
  },
  {
   "attachments": {},
   "cell_type": "markdown",
   "metadata": {},
   "source": [
    "- Threshold a blue area in image"
   ]
  },
  {
   "cell_type": "code",
   "execution_count": 7,
   "metadata": {},
   "outputs": [],
   "source": [
    "# define range of blue color in HSV\n",
    "lower = np.array([110, 50, 50])\n",
    "upper = np.array([130, 255, 255])\n",
    "\n",
    "img = cv2.imread('blocks.jpg')\n",
    "\n",
    "hsv = cv2.cvtColor(img, cv2.COLOR_BGR2HSV)\n",
    "mask = cv2.inRange(hsv.copy(), lower, upper)\n",
    "res = cv2.bitwise_and(img, img, mask= mask)\n",
    "\n",
    "cv2.imshow('frame',img)\n",
    "cv2.imshow('res',res)\n",
    "cv2.imshow('mask',mask)\n",
    "cv2.waitKey(0)\n",
    "cv2.destroyAllWindows()"
   ]
  },
  {
   "attachments": {},
   "cell_type": "markdown",
   "metadata": {},
   "source": [
    "- Bagaimana menemukan `lower` dan `upper` untuk warna yang inin kita threshold ?\n",
    "    - kita dapat menggunakan `color_range_picker.py`\n",
    "    - untuk menggunakannya, jalankan pada terminal raspberry pi,\n",
    "        ```\n",
    "        python3 color_range_picker.py --mode 1 --camera 0\n",
    "        ```\n",
    "        atau, jika ingin dari gambar, \n",
    "        ```\n",
    "        python3 color_range_picker.py --mode 2 --image blocks.jpg\n",
    "        ```\n",
    "        <img src=\"resource/color_range_tool.png\" style=\"width: 400px; margin-top:10px; background-color:white\" > </img>"
   ]
  },
  {
   "attachments": {},
   "cell_type": "markdown",
   "metadata": {},
   "source": [
    "- Threshold a blue area in camera stream"
   ]
  },
  {
   "cell_type": "code",
   "execution_count": 11,
   "metadata": {},
   "outputs": [
    {
     "name": "stderr",
     "output_type": "stream",
     "text": [
      "[ WARN:0] global /home/pi/build_opencv/opencv/modules/videoio/src/cap_gstreamer.cpp (1081) open OpenCV | GStreamer warning: Cannot query video position: status=0, value=-1, duration=-1\n"
     ]
    }
   ],
   "source": [
    "# define range of blue color in HSV\n",
    "lower = np.array([110, 50, 50])\n",
    "upper = np.array([130, 255, 255])\n",
    "\n",
    "cap = cv2.VideoCapture(1)\n",
    "\n",
    "while cap.isOpened():\n",
    "    ret, frame = cap.read()\n",
    "    \n",
    "    if not ret:\n",
    "        break\n",
    "\n",
    "    # resize image to width ~ 320px\n",
    "    w = frame.shape[1] \n",
    "    f = 320 / w \n",
    "    frame = cv2.resize(frame, (0,0), fx=f, fy=f)\n",
    "\n",
    "    # apply range thresholding\n",
    "    hsv = cv2.cvtColor(frame, cv2.COLOR_BGR2HSV)\n",
    "    mask = cv2.inRange(hsv.copy(), lower, upper)\n",
    "    res = cv2.bitwise_and(frame, frame, mask= mask)\n",
    "\n",
    "    cv2.imshow('Original Image', frame)\n",
    "    cv2.imshow('Result Image', res)\n",
    "    cv2.imshow('Mask Image', mask)\n",
    "    \n",
    "    if cv2.waitKey(25) == ord('q'):\n",
    "        break \n",
    "\n",
    "cap.release()\n",
    "cv2.destroyAllWindows()"
   ]
  }
 ],
 "metadata": {
  "kernelspec": {
   "display_name": "Python 3",
   "language": "python",
   "name": "python3"
  },
  "language_info": {
   "codemirror_mode": {
    "name": "ipython",
    "version": 3
   },
   "file_extension": ".py",
   "mimetype": "text/x-python",
   "name": "python",
   "nbconvert_exporter": "python",
   "pygments_lexer": "ipython3",
   "version": "3.9.2"
  },
  "orig_nbformat": 4
 },
 "nbformat": 4,
 "nbformat_minor": 2
}
